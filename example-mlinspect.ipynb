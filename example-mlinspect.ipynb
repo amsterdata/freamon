{
 "cells": [
  {
   "cell_type": "code",
   "execution_count": 1,
   "metadata": {},
   "outputs": [],
   "source": [
    "import logging\n",
    "import warnings\n",
    "\n",
    "logging.basicConfig()\n",
    "logging.getLogger().setLevel(logging.INFO)\n",
    "\n",
    "warnings.filterwarnings(\"ignore\")"
   ]
  },
  {
   "cell_type": "code",
   "execution_count": 2,
   "metadata": {},
   "outputs": [
    {
     "name": "stderr",
     "output_type": "stream",
     "text": [
      "INFO:root:Patching sys.argv with ['eyes']\n",
      "INFO:root:Executing instrumented user pipeline with mlinspect\n",
      "INFO:root:Redirecting the pipeline's stdout to pipeline-output.txt\n",
      "INFO:root:---RUNTIME: Instrumented execution took 4049.7570037841797 ms\n",
      "INFO:root:Registering test source 1 with columns: ['age', 'workclass', 'fnlwgt', 'education', 'education-num', 'marital-status', 'occupation', 'relationship', 'race', 'sex', 'capital-gain', 'capital-loss', 'hours-per-week', 'native-country', 'income-per-year', 'mlinspect_lineage']\n"
     ]
    }
   ],
   "source": [
    "from freamon.adapters.mlinspect.provenance import from_py_file\n",
    "\n",
    "view_gen = from_py_file('pipelines--mlinspect--credit.py', cmd_args=[])"
   ]
  },
  {
   "cell_type": "code",
   "execution_count": 4,
   "metadata": {},
   "outputs": [
    {
     "name": "stderr",
     "output_type": "stream",
     "text": [
      "INFO:root:\n",
      "SELECT fs1.race, fs1.sex, ftv.y_true, ftv.y_pred\n",
      "FROM _freamon_test_view ftv\n",
      "JOIN _freamon_source_1_with_prov_view fs1  ON fs1.prov_id_source_1 = ftv.prov_id_source_1\n",
      "   \n",
      "        \n"
     ]
    }
   ],
   "source": [
    "df = view_gen.test_view(sliceable_by=['race', 'sex'], with_features=False, with_y_true=True, with_y_pred=True)"
   ]
  },
  {
   "cell_type": "code",
   "execution_count": 5,
   "metadata": {},
   "outputs": [
    {
     "data": {
      "text/html": [
       "<div>\n",
       "<style scoped>\n",
       "    .dataframe tbody tr th:only-of-type {\n",
       "        vertical-align: middle;\n",
       "    }\n",
       "\n",
       "    .dataframe tbody tr th {\n",
       "        vertical-align: top;\n",
       "    }\n",
       "\n",
       "    .dataframe thead th {\n",
       "        text-align: right;\n",
       "    }\n",
       "</style>\n",
       "<table border=\"1\" class=\"dataframe\">\n",
       "  <thead>\n",
       "    <tr style=\"text-align: right;\">\n",
       "      <th></th>\n",
       "      <th>privileged</th>\n",
       "      <th>true_positive</th>\n",
       "      <th>false_negative</th>\n",
       "      <th>false_positive</th>\n",
       "      <th>true_negative</th>\n",
       "    </tr>\n",
       "  </thead>\n",
       "  <tbody>\n",
       "    <tr>\n",
       "      <th>0</th>\n",
       "      <td>True</td>\n",
       "      <td>192.0</td>\n",
       "      <td>235.0</td>\n",
       "      <td>126.0</td>\n",
       "      <td>1437.0</td>\n",
       "    </tr>\n",
       "    <tr>\n",
       "      <th>1</th>\n",
       "      <td>False</td>\n",
       "      <td>9.0</td>\n",
       "      <td>7.0</td>\n",
       "      <td>18.0</td>\n",
       "      <td>104.0</td>\n",
       "    </tr>\n",
       "  </tbody>\n",
       "</table>\n",
       "</div>"
      ],
      "text/plain": [
       "   privileged  true_positive  false_negative  false_positive  true_negative\n",
       "0        True          192.0           235.0           126.0         1437.0\n",
       "1       False            9.0             7.0            18.0          104.0"
      ]
     },
     "execution_count": 5,
     "metadata": {},
     "output_type": "execute_result"
    }
   ],
   "source": [
    "view_gen.db.execute(\n",
    "\"\"\"\n",
    "SELECT \n",
    "    (race!='Black' OR sex!='Male') AS privileged, \n",
    "    SUM(CAST((y_true=1 AND y_pred=1) AS INTEGER)) AS true_positive,\n",
    "    SUM(CAST((y_true=1 AND y_pred=0) AS INTEGER)) AS false_negative,    \n",
    "    SUM(CAST((y_true=0 AND y_pred=1) AS INTEGER)) AS false_positive,    \n",
    "    SUM(CAST((y_true=0 AND y_pred=0) AS INTEGER)) AS true_negative,    \n",
    "FROM df\n",
    "GROUP BY privileged\n",
    "\"\"\"\n",
    ").df()"
   ]
  },
  {
   "cell_type": "code",
   "execution_count": null,
   "metadata": {},
   "outputs": [],
   "source": []
  }
 ],
 "metadata": {
  "kernelspec": {
   "display_name": "Python 3 (ipykernel)",
   "language": "python",
   "name": "python3"
  },
  "language_info": {
   "codemirror_mode": {
    "name": "ipython",
    "version": 3
   },
   "file_extension": ".py",
   "mimetype": "text/x-python",
   "name": "python",
   "nbconvert_exporter": "python",
   "pygments_lexer": "ipython3",
   "version": "3.9.10"
  }
 },
 "nbformat": 4,
 "nbformat_minor": 4
}
