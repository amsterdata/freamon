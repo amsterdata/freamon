{
 "cells": [
  {
   "cell_type": "code",
   "execution_count": 2,
   "metadata": {},
   "outputs": [
    {
     "name": "stdout",
     "output_type": "stream",
     "text": [
      "22/07/03 06:47:13 WARN Utils: Your hostname, MacBook-Pro-4.local resolves to a loopback address: 127.0.0.1; using 192.168.178.19 instead (on interface en0)\n",
      "22/07/03 06:47:13 WARN Utils: Set SPARK_LOCAL_IP if you need to bind to another address\n"
     ]
    },
    {
     "name": "stderr",
     "output_type": "stream",
     "text": [
      "Setting default log level to \"WARN\".\n",
      "To adjust logging level use sc.setLogLevel(newLevel). For SparkR, use setLogLevel(newLevel).\n"
     ]
    },
    {
     "name": "stdout",
     "output_type": "stream",
     "text": [
      "22/07/03 06:47:14 WARN NativeCodeLoader: Unable to load native-hadoop library for your platform... using builtin-java classes where applicable\n",
      "22/07/03 06:47:21 WARN CSVHeaderChecker: CSV header does not conform to the schema.\n",
      " Header: , product_id, product_parent, product_title, category_id\n",
      " Schema: _c0, product_id, product_parent, product_title, category_id\n",
      "Expected: _c0 but found: \n",
      "CSV file: file:///Users/ssc/projects/freamon-opt/datasets/reviews/products.csv\n"
     ]
    },
    {
     "name": "stderr",
     "output_type": "stream",
     "text": [
      "\r",
      "[Stage 2:>                                                          (0 + 1) / 2]\r"
     ]
    },
    {
     "name": "stdout",
     "output_type": "stream",
     "text": [
      "22/07/03 06:47:23 WARN CSVHeaderChecker: CSV header does not conform to the schema.\n",
      " Header: , id, category\n",
      " Schema: _c0, id, category\n",
      "Expected: _c0 but found: \n",
      "CSV file: file:///Users/ssc/projects/freamon-opt/datasets/reviews/categories.csv\n"
     ]
    },
    {
     "name": "stderr",
     "output_type": "stream",
     "text": [
      "\r",
      "                                                                                \r"
     ]
    }
   ],
   "source": [
    "from pyspark.sql import SparkSession, Row\n",
    "from pyspark.ml.classification import LogisticRegression\n",
    "from pyspark.ml.feature import HashingTF, Tokenizer\n",
    "from pyspark.mllib.evaluation import BinaryClassificationMetrics\n",
    "\n",
    "from freamon.adapters.pyspark.provenance import trace_provenance\n",
    "\n",
    "spark = SparkSession.builder \\\n",
    "    .master(\"local\") \\\n",
    "    .getOrCreate()\n",
    "\n",
    "\n",
    "with trace_provenance() as tr:\n",
    "    \n",
    "    products = tr.read_csv(spark, \"datasets/reviews/products.csv\")\n",
    "    categories = tr.read_csv(spark, \"datasets/reviews/categories.csv\")\n",
    "\n",
    "    filtered_products = products \\\n",
    "      .filter(lambda row: 'playstation' in row['product_title'].lower()) \\\n",
    "      .select(['product_id', 'product_title', 'category_id'])\\\n",
    "      .withColumn('title_length', lambda row: len(row['product_title']))\n",
    "\n",
    "    products_with_categories = filtered_products \\\n",
    "      .join(categories, left_on='category_id', right_on='id') \\\n",
    "      .select(['product_title', 'category', 'title_length', 'category_id'])\n",
    "\n",
    "    train, test = products_with_categories.randomSplit(0.8, 42)\n",
    "\n",
    "    train.cache()\n",
    "    test.cache()\n",
    "\n",
    "    train = train.withColumn('label', lambda row: int(len(row['product_title']) >= 30))\n",
    "    test = train.withColumn('label', lambda row: int(len(row['product_title']) < 30))\n",
    "\n",
    "\n",
    "    tokenizer = Tokenizer(inputCol=\"product_title\", outputCol=\"words\")\n",
    "    hashingTF = HashingTF(inputCol=tokenizer.getOutputCol(), numFeatures=100, outputCol=\"features\")\n",
    "    lr = LogisticRegression(maxIter=10, regParam=0.001)\n",
    "    pipeline = tr.make_pipeline(stages=[tokenizer, hashingTF, lr])\n",
    "\n",
    "    model = pipeline.fit(train)\n",
    "    predictions = model.transform(test)"
   ]
  },
  {
   "cell_type": "code",
   "execution_count": 3,
   "metadata": {},
   "outputs": [
    {
     "data": {
      "text/plain": [
       "[Row(probability=DenseVector([0.9979, 0.0021]), prediction=0.0),\n",
       " Row(probability=DenseVector([0.998, 0.002]), prediction=0.0),\n",
       " Row(probability=DenseVector([0.998, 0.002]), prediction=0.0),\n",
       " Row(probability=DenseVector([0.998, 0.002]), prediction=0.0),\n",
       " Row(probability=DenseVector([0.998, 0.002]), prediction=0.0),\n",
       " Row(probability=DenseVector([0.9979, 0.0021]), prediction=0.0),\n",
       " Row(probability=DenseVector([0.0013, 0.9987]), prediction=1.0),\n",
       " Row(probability=DenseVector([0.0019, 0.9981]), prediction=1.0),\n",
       " Row(probability=DenseVector([0.998, 0.002]), prediction=0.0),\n",
       " Row(probability=DenseVector([0.0016, 0.9984]), prediction=1.0),\n",
       " Row(probability=DenseVector([0.0024, 0.9976]), prediction=1.0),\n",
       " Row(probability=DenseVector([0.0032, 0.9968]), prediction=1.0),\n",
       " Row(probability=DenseVector([0.0018, 0.9982]), prediction=1.0),\n",
       " Row(probability=DenseVector([0.0015, 0.9985]), prediction=1.0),\n",
       " Row(probability=DenseVector([0.0017, 0.9983]), prediction=1.0),\n",
       " Row(probability=DenseVector([0.0011, 0.9989]), prediction=1.0)]"
      ]
     },
     "execution_count": 3,
     "metadata": {},
     "output_type": "execute_result"
    }
   ],
   "source": [
    "predictions.select(['probability', 'prediction']).collect()"
   ]
  },
  {
   "cell_type": "code",
   "execution_count": 5,
   "metadata": {},
   "outputs": [
    {
     "data": {
      "text/html": [
       "<div>\n",
       "<style scoped>\n",
       "    .dataframe tbody tr th:only-of-type {\n",
       "        vertical-align: middle;\n",
       "    }\n",
       "\n",
       "    .dataframe tbody tr th {\n",
       "        vertical-align: top;\n",
       "    }\n",
       "\n",
       "    .dataframe thead th {\n",
       "        text-align: right;\n",
       "    }\n",
       "</style>\n",
       "<table border=\"1\" class=\"dataframe\">\n",
       "  <thead>\n",
       "    <tr style=\"text-align: right;\">\n",
       "      <th></th>\n",
       "      <th>features</th>\n",
       "      <th>label</th>\n",
       "      <th>probability</th>\n",
       "      <th>prediction</th>\n",
       "    </tr>\n",
       "  </thead>\n",
       "  <tbody>\n",
       "    <tr>\n",
       "      <th>0</th>\n",
       "      <td>(0.0, 0.0, 0.0, 0.0, 0.0, 0.0, 0.0, 0.0, 0.0, ...</td>\n",
       "      <td>1</td>\n",
       "      <td>[0.9979020985377153, 0.0020979014622847236]</td>\n",
       "      <td>0.0</td>\n",
       "    </tr>\n",
       "    <tr>\n",
       "      <th>1</th>\n",
       "      <td>(0.0, 0.0, 0.0, 0.0, 0.0, 0.0, 0.0, 0.0, 0.0, ...</td>\n",
       "      <td>1</td>\n",
       "      <td>[0.9979848318675658, 0.0020151681324341864]</td>\n",
       "      <td>0.0</td>\n",
       "    </tr>\n",
       "    <tr>\n",
       "      <th>2</th>\n",
       "      <td>(0.0, 0.0, 0.0, 0.0, 0.0, 0.0, 0.0, 0.0, 0.0, ...</td>\n",
       "      <td>1</td>\n",
       "      <td>[0.9979848318675658, 0.0020151681324341864]</td>\n",
       "      <td>0.0</td>\n",
       "    </tr>\n",
       "    <tr>\n",
       "      <th>3</th>\n",
       "      <td>(0.0, 0.0, 0.0, 0.0, 0.0, 0.0, 0.0, 0.0, 0.0, ...</td>\n",
       "      <td>1</td>\n",
       "      <td>[0.9979848318675658, 0.0020151681324341864]</td>\n",
       "      <td>0.0</td>\n",
       "    </tr>\n",
       "    <tr>\n",
       "      <th>4</th>\n",
       "      <td>(0.0, 0.0, 0.0, 0.0, 0.0, 0.0, 0.0, 0.0, 0.0, ...</td>\n",
       "      <td>1</td>\n",
       "      <td>[0.9979848318675658, 0.0020151681324341864]</td>\n",
       "      <td>0.0</td>\n",
       "    </tr>\n",
       "    <tr>\n",
       "      <th>5</th>\n",
       "      <td>(0.0, 0.0, 0.0, 0.0, 0.0, 0.0, 0.0, 0.0, 0.0, ...</td>\n",
       "      <td>1</td>\n",
       "      <td>[0.9979020985377153, 0.0020979014622847236]</td>\n",
       "      <td>0.0</td>\n",
       "    </tr>\n",
       "    <tr>\n",
       "      <th>6</th>\n",
       "      <td>(0.0, 0.0, 0.0, 0.0, 0.0, 0.0, 0.0, 0.0, 1.0, ...</td>\n",
       "      <td>0</td>\n",
       "      <td>[0.0012749951337742667, 0.9987250048662257]</td>\n",
       "      <td>1.0</td>\n",
       "    </tr>\n",
       "    <tr>\n",
       "      <th>7</th>\n",
       "      <td>(0.0, 0.0, 0.0, 0.0, 0.0, 0.0, 0.0, 0.0, 1.0, ...</td>\n",
       "      <td>0</td>\n",
       "      <td>[0.0019010657428531691, 0.9980989342571468]</td>\n",
       "      <td>1.0</td>\n",
       "    </tr>\n",
       "    <tr>\n",
       "      <th>8</th>\n",
       "      <td>(0.0, 0.0, 0.0, 0.0, 0.0, 0.0, 0.0, 0.0, 0.0, ...</td>\n",
       "      <td>1</td>\n",
       "      <td>[0.9979848318675658, 0.0020151681324341864]</td>\n",
       "      <td>0.0</td>\n",
       "    </tr>\n",
       "    <tr>\n",
       "      <th>9</th>\n",
       "      <td>(0.0, 0.0, 0.0, 1.0, 0.0, 0.0, 0.0, 0.0, 0.0, ...</td>\n",
       "      <td>0</td>\n",
       "      <td>[0.0016183673312031048, 0.9983816326687969]</td>\n",
       "      <td>1.0</td>\n",
       "    </tr>\n",
       "    <tr>\n",
       "      <th>10</th>\n",
       "      <td>(0.0, 0.0, 0.0, 0.0, 0.0, 0.0, 0.0, 0.0, 0.0, ...</td>\n",
       "      <td>0</td>\n",
       "      <td>[0.0024411150124139507, 0.997558884987586]</td>\n",
       "      <td>1.0</td>\n",
       "    </tr>\n",
       "    <tr>\n",
       "      <th>11</th>\n",
       "      <td>(0.0, 0.0, 0.0, 0.0, 0.0, 0.0, 0.0, 0.0, 0.0, ...</td>\n",
       "      <td>0</td>\n",
       "      <td>[0.003193441787206824, 0.9968065582127932]</td>\n",
       "      <td>1.0</td>\n",
       "    </tr>\n",
       "    <tr>\n",
       "      <th>12</th>\n",
       "      <td>(0.0, 0.0, 0.0, 0.0, 0.0, 0.0, 1.0, 1.0, 0.0, ...</td>\n",
       "      <td>0</td>\n",
       "      <td>[0.0018403127325729675, 0.998159687267427]</td>\n",
       "      <td>1.0</td>\n",
       "    </tr>\n",
       "    <tr>\n",
       "      <th>13</th>\n",
       "      <td>(0.0, 0.0, 0.0, 0.0, 0.0, 0.0, 1.0, 0.0, 0.0, ...</td>\n",
       "      <td>0</td>\n",
       "      <td>[0.001537361068507776, 0.9984626389314922]</td>\n",
       "      <td>1.0</td>\n",
       "    </tr>\n",
       "    <tr>\n",
       "      <th>14</th>\n",
       "      <td>(0.0, 0.0, 0.0, 0.0, 0.0, 0.0, 1.0, 0.0, 1.0, ...</td>\n",
       "      <td>0</td>\n",
       "      <td>[0.0016753818086837119, 0.9983246181913162]</td>\n",
       "      <td>1.0</td>\n",
       "    </tr>\n",
       "    <tr>\n",
       "      <th>15</th>\n",
       "      <td>(0.0, 0.0, 0.0, 0.0, 0.0, 0.0, 0.0, 0.0, 0.0, ...</td>\n",
       "      <td>0</td>\n",
       "      <td>[0.0010846806315575439, 0.9989153193684425]</td>\n",
       "      <td>1.0</td>\n",
       "    </tr>\n",
       "  </tbody>\n",
       "</table>\n",
       "</div>"
      ],
      "text/plain": [
       "                                             features  label  \\\n",
       "0   (0.0, 0.0, 0.0, 0.0, 0.0, 0.0, 0.0, 0.0, 0.0, ...      1   \n",
       "1   (0.0, 0.0, 0.0, 0.0, 0.0, 0.0, 0.0, 0.0, 0.0, ...      1   \n",
       "2   (0.0, 0.0, 0.0, 0.0, 0.0, 0.0, 0.0, 0.0, 0.0, ...      1   \n",
       "3   (0.0, 0.0, 0.0, 0.0, 0.0, 0.0, 0.0, 0.0, 0.0, ...      1   \n",
       "4   (0.0, 0.0, 0.0, 0.0, 0.0, 0.0, 0.0, 0.0, 0.0, ...      1   \n",
       "5   (0.0, 0.0, 0.0, 0.0, 0.0, 0.0, 0.0, 0.0, 0.0, ...      1   \n",
       "6   (0.0, 0.0, 0.0, 0.0, 0.0, 0.0, 0.0, 0.0, 1.0, ...      0   \n",
       "7   (0.0, 0.0, 0.0, 0.0, 0.0, 0.0, 0.0, 0.0, 1.0, ...      0   \n",
       "8   (0.0, 0.0, 0.0, 0.0, 0.0, 0.0, 0.0, 0.0, 0.0, ...      1   \n",
       "9   (0.0, 0.0, 0.0, 1.0, 0.0, 0.0, 0.0, 0.0, 0.0, ...      0   \n",
       "10  (0.0, 0.0, 0.0, 0.0, 0.0, 0.0, 0.0, 0.0, 0.0, ...      0   \n",
       "11  (0.0, 0.0, 0.0, 0.0, 0.0, 0.0, 0.0, 0.0, 0.0, ...      0   \n",
       "12  (0.0, 0.0, 0.0, 0.0, 0.0, 0.0, 1.0, 1.0, 0.0, ...      0   \n",
       "13  (0.0, 0.0, 0.0, 0.0, 0.0, 0.0, 1.0, 0.0, 0.0, ...      0   \n",
       "14  (0.0, 0.0, 0.0, 0.0, 0.0, 0.0, 1.0, 0.0, 1.0, ...      0   \n",
       "15  (0.0, 0.0, 0.0, 0.0, 0.0, 0.0, 0.0, 0.0, 0.0, ...      0   \n",
       "\n",
       "                                    probability  prediction  \n",
       "0   [0.9979020985377153, 0.0020979014622847236]         0.0  \n",
       "1   [0.9979848318675658, 0.0020151681324341864]         0.0  \n",
       "2   [0.9979848318675658, 0.0020151681324341864]         0.0  \n",
       "3   [0.9979848318675658, 0.0020151681324341864]         0.0  \n",
       "4   [0.9979848318675658, 0.0020151681324341864]         0.0  \n",
       "5   [0.9979020985377153, 0.0020979014622847236]         0.0  \n",
       "6   [0.0012749951337742667, 0.9987250048662257]         1.0  \n",
       "7   [0.0019010657428531691, 0.9980989342571468]         1.0  \n",
       "8   [0.9979848318675658, 0.0020151681324341864]         0.0  \n",
       "9   [0.0016183673312031048, 0.9983816326687969]         1.0  \n",
       "10   [0.0024411150124139507, 0.997558884987586]         1.0  \n",
       "11   [0.003193441787206824, 0.9968065582127932]         1.0  \n",
       "12   [0.0018403127325729675, 0.998159687267427]         1.0  \n",
       "13   [0.001537361068507776, 0.9984626389314922]         1.0  \n",
       "14  [0.0016753818086837119, 0.9983246181913162]         1.0  \n",
       "15  [0.0010846806315575439, 0.9989153193684425]         1.0  "
      ]
     },
     "execution_count": 5,
     "metadata": {},
     "output_type": "execute_result"
    },
    {
     "name": "stdout",
     "output_type": "stream",
     "text": [
      "22/07/03 07:46:17 WARN HeartbeatReceiver: Removing executor driver with no recent heartbeats: 1086630 ms exceeds timeout 120000 ms\n",
      "22/07/03 07:46:18 WARN SparkContext: Killing executors is not supported by current scheduler.\n"
     ]
    }
   ],
   "source": [
    "from freamon.adapters.pyspark.provenance import SingletonProvStore\n",
    "\n",
    "SingletonProvStore().test_features_and_predictions.toPandas()"
   ]
  },
  {
   "cell_type": "code",
   "execution_count": null,
   "metadata": {},
   "outputs": [],
   "source": []
  }
 ],
 "metadata": {
  "kernelspec": {
   "display_name": "Python 3 (ipykernel)",
   "language": "python",
   "name": "python3"
  },
  "language_info": {
   "codemirror_mode": {
    "name": "ipython",
    "version": 3
   },
   "file_extension": ".py",
   "mimetype": "text/x-python",
   "name": "python",
   "nbconvert_exporter": "python",
   "pygments_lexer": "ipython3",
   "version": "3.9.10"
  }
 },
 "nbformat": 4,
 "nbformat_minor": 4
}
