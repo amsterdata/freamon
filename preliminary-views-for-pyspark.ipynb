{
 "cells": [
  {
   "cell_type": "code",
   "execution_count": 1,
   "metadata": {},
   "outputs": [
    {
     "name": "stderr",
     "output_type": "stream",
     "text": [
      "Setting default log level to \"WARN\".\n",
      "To adjust logging level use sc.setLogLevel(newLevel). For SparkR, use setLogLevel(newLevel).\n"
     ]
    },
    {
     "name": "stdout",
     "output_type": "stream",
     "text": [
      "22/09/02 11:56:48 WARN NativeCodeLoader: Unable to load native-hadoop library for your platform... using builtin-java classes where applicable\n",
      "22/09/02 11:56:54 WARN CSVHeaderChecker: CSV header does not conform to the schema.\n",
      " Header: , product_id, product_parent, product_title, category_id\n",
      " Schema: _c0, product_id, product_parent, product_title, category_id\n",
      "Expected: _c0 but found: \n",
      "CSV file: file:///Users/ssc/projects/freamon-opt/datasets/reviews/products.csv\n"
     ]
    },
    {
     "name": "stderr",
     "output_type": "stream",
     "text": [
      "\r",
      "[Stage 2:>                                                          (0 + 1) / 2]\r"
     ]
    },
    {
     "name": "stdout",
     "output_type": "stream",
     "text": [
      "22/09/02 11:56:56 WARN CSVHeaderChecker: CSV header does not conform to the schema.\n",
      " Header: , id, category\n",
      " Schema: _c0, id, category\n",
      "Expected: _c0 but found: \n",
      "CSV file: file:///Users/ssc/projects/freamon-opt/datasets/reviews/categories.csv\n",
      "22/09/02 11:56:56 WARN BlockManager: Task 4 already completed, not releasing lock for rdd_47_0\n"
     ]
    },
    {
     "name": "stderr",
     "output_type": "stream",
     "text": [
      "\r",
      "                                                                                \r"
     ]
    }
   ],
   "source": [
    "from pyspark.sql import SparkSession, Row\n",
    "from pyspark.ml.classification import LogisticRegression\n",
    "from pyspark.ml.feature import HashingTF, Tokenizer\n",
    "from pyspark.mllib.evaluation import BinaryClassificationMetrics\n",
    "\n",
    "from freamon.adapters.pyspark.provenance import trace_provenance, from_trace\n",
    "\n",
    "spark = SparkSession.builder \\\n",
    "    .master(\"local\") \\\n",
    "    .getOrCreate()\n",
    "\n",
    "\n",
    "with trace_provenance() as tr:\n",
    "    \n",
    "    products = tr.read_csv(spark, \"datasets/reviews/products.csv\")\n",
    "    categories = tr.read_csv(spark, \"datasets/reviews/categories.csv\")\n",
    "    \n",
    "#.filter(lambda row: 'playstation' in row['product_title'].lower()) \\\n",
    "    filtered_products = products \\\n",
    "      .select(['product_id', 'product_title', 'category_id'])\\\n",
    "      .withColumn('title_length', lambda row: len(row['product_title']))\n",
    "\n",
    "    products_with_categories = filtered_products \\\n",
    "      .join(categories, left_on='category_id', right_on='id') \\\n",
    "      .select(['product_title', 'category', 'title_length', 'category_id'])\n",
    "\n",
    "    train, test = products_with_categories.randomSplit(0.8, 42)\n",
    "\n",
    "    train.cache()\n",
    "    test.cache()\n",
    "\n",
    "    train = train.withColumn('label', lambda row: int(len(row['product_title']) >= 30))\n",
    "    test = test.withColumn('label', lambda row: int(len(row['product_title']) >= 30))\n",
    "\n",
    "\n",
    "    tokenizer = Tokenizer(inputCol=\"product_title\", outputCol=\"words\")\n",
    "    hashingTF = HashingTF(inputCol=tokenizer.getOutputCol(), numFeatures=100, outputCol=\"features\")\n",
    "    lr = LogisticRegression(maxIter=10, regParam=0.001)\n",
    "    pipeline = tr.make_pipeline(stages=[tokenizer, hashingTF, lr])\n",
    "\n",
    "    model = pipeline.fit(train)\n",
    "    predictions = model.transform(test)"
   ]
  },
  {
   "cell_type": "code",
   "execution_count": 2,
   "metadata": {},
   "outputs": [
    {
     "name": "stderr",
     "output_type": "stream",
     "text": [
      "\r",
      "[Stage 33:>                                                         (0 + 1) / 1]\r",
      "\r",
      "                                                                                \r"
     ]
    }
   ],
   "source": [
    "view_gen = from_trace(tr, spark)"
   ]
  },
  {
   "cell_type": "code",
   "execution_count": 3,
   "metadata": {},
   "outputs": [
    {
     "name": "stderr",
     "output_type": "stream",
     "text": [
      "                                                                                \r"
     ]
    },
    {
     "data": {
      "text/html": [
       "<div>\n",
       "<style scoped>\n",
       "    .dataframe tbody tr th:only-of-type {\n",
       "        vertical-align: middle;\n",
       "    }\n",
       "\n",
       "    .dataframe tbody tr th {\n",
       "        vertical-align: top;\n",
       "    }\n",
       "\n",
       "    .dataframe thead th {\n",
       "        text-align: right;\n",
       "    }\n",
       "</style>\n",
       "<table border=\"1\" class=\"dataframe\">\n",
       "  <thead>\n",
       "    <tr style=\"text-align: right;\">\n",
       "      <th></th>\n",
       "      <th>category</th>\n",
       "      <th>category_id</th>\n",
       "      <th>y_true</th>\n",
       "      <th>y_pred</th>\n",
       "    </tr>\n",
       "  </thead>\n",
       "  <tbody>\n",
       "    <tr>\n",
       "      <th>0</th>\n",
       "      <td>Digital_Video_Games</td>\n",
       "      <td>0</td>\n",
       "      <td>0</td>\n",
       "      <td>0.0</td>\n",
       "    </tr>\n",
       "    <tr>\n",
       "      <th>1</th>\n",
       "      <td>Digital_Video_Games</td>\n",
       "      <td>0</td>\n",
       "      <td>0</td>\n",
       "      <td>0.0</td>\n",
       "    </tr>\n",
       "    <tr>\n",
       "      <th>2</th>\n",
       "      <td>Digital_Video_Games</td>\n",
       "      <td>0</td>\n",
       "      <td>1</td>\n",
       "      <td>1.0</td>\n",
       "    </tr>\n",
       "    <tr>\n",
       "      <th>3</th>\n",
       "      <td>Digital_Video_Games</td>\n",
       "      <td>0</td>\n",
       "      <td>1</td>\n",
       "      <td>1.0</td>\n",
       "    </tr>\n",
       "    <tr>\n",
       "      <th>4</th>\n",
       "      <td>Digital_Video_Games</td>\n",
       "      <td>0</td>\n",
       "      <td>1</td>\n",
       "      <td>1.0</td>\n",
       "    </tr>\n",
       "    <tr>\n",
       "      <th>...</th>\n",
       "      <td>...</td>\n",
       "      <td>...</td>\n",
       "      <td>...</td>\n",
       "      <td>...</td>\n",
       "    </tr>\n",
       "    <tr>\n",
       "      <th>2140</th>\n",
       "      <td>Digital_Software</td>\n",
       "      <td>1</td>\n",
       "      <td>1</td>\n",
       "      <td>1.0</td>\n",
       "    </tr>\n",
       "    <tr>\n",
       "      <th>2141</th>\n",
       "      <td>Digital_Software</td>\n",
       "      <td>1</td>\n",
       "      <td>0</td>\n",
       "      <td>0.0</td>\n",
       "    </tr>\n",
       "    <tr>\n",
       "      <th>2142</th>\n",
       "      <td>Digital_Software</td>\n",
       "      <td>1</td>\n",
       "      <td>0</td>\n",
       "      <td>1.0</td>\n",
       "    </tr>\n",
       "    <tr>\n",
       "      <th>2143</th>\n",
       "      <td>Digital_Software</td>\n",
       "      <td>1</td>\n",
       "      <td>0</td>\n",
       "      <td>0.0</td>\n",
       "    </tr>\n",
       "    <tr>\n",
       "      <th>2144</th>\n",
       "      <td>Digital_Software</td>\n",
       "      <td>1</td>\n",
       "      <td>0</td>\n",
       "      <td>0.0</td>\n",
       "    </tr>\n",
       "  </tbody>\n",
       "</table>\n",
       "<p>2145 rows × 4 columns</p>\n",
       "</div>"
      ],
      "text/plain": [
       "                 category category_id  y_true  y_pred\n",
       "0     Digital_Video_Games           0       0     0.0\n",
       "1     Digital_Video_Games           0       0     0.0\n",
       "2     Digital_Video_Games           0       1     1.0\n",
       "3     Digital_Video_Games           0       1     1.0\n",
       "4     Digital_Video_Games           0       1     1.0\n",
       "...                   ...         ...     ...     ...\n",
       "2140     Digital_Software           1       1     1.0\n",
       "2141     Digital_Software           1       0     0.0\n",
       "2142     Digital_Software           1       0     1.0\n",
       "2143     Digital_Software           1       0     0.0\n",
       "2144     Digital_Software           1       0     0.0\n",
       "\n",
       "[2145 rows x 4 columns]"
      ]
     },
     "execution_count": 3,
     "metadata": {},
     "output_type": "execute_result"
    }
   ],
   "source": [
    "df = view_gen.test_view(\n",
    "    sliceable_by=['category', 'category_id'], \n",
    "    with_features=False, \n",
    "    with_y_true=True, \n",
    "    with_y_pred=True)\n",
    "\n",
    "df"
   ]
  },
  {
   "cell_type": "code",
   "execution_count": 4,
   "metadata": {},
   "outputs": [
    {
     "data": {
      "text/plain": [
       "8787"
      ]
     },
     "execution_count": 4,
     "metadata": {},
     "output_type": "execute_result"
    }
   ],
   "source": [
    "train.count()"
   ]
  },
  {
   "cell_type": "code",
   "execution_count": null,
   "metadata": {},
   "outputs": [],
   "source": []
  }
 ],
 "metadata": {
  "kernelspec": {
   "display_name": "Python 3 (ipykernel)",
   "language": "python",
   "name": "python3"
  },
  "language_info": {
   "codemirror_mode": {
    "name": "ipython",
    "version": 3
   },
   "file_extension": ".py",
   "mimetype": "text/x-python",
   "name": "python",
   "nbconvert_exporter": "python",
   "pygments_lexer": "ipython3",
   "version": "3.9.13"
  }
 },
 "nbformat": 4,
 "nbformat_minor": 4
}
