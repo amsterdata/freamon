{
 "cells": [
  {
   "cell_type": "code",
   "execution_count": 1,
   "metadata": {},
   "outputs": [],
   "source": [
    "import logging\n",
    "import warnings\n",
    "\n",
    "logging.basicConfig()\n",
    "logging.getLogger().setLevel(logging.INFO)\n",
    "\n",
    "warnings.filterwarnings(\"ignore\")"
   ]
  },
  {
   "cell_type": "markdown",
   "metadata": {},
   "source": [
    "## Execute a pipeline and setup a view generator"
   ]
  },
  {
   "cell_type": "code",
   "execution_count": 2,
   "metadata": {},
   "outputs": [
    {
     "name": "stderr",
     "output_type": "stream",
     "text": [
      "INFO:root:Patching sys.argv with ['eyes']\n",
      "INFO:root:Executing instrumented user pipeline with mlinspect\n",
      "INFO:root:Redirecting the pipeline's stdout to pipeline-output.txt\n",
      "INFO:root:---RUNTIME: Instrumented execution took 11119.127035140991 ms\n",
      "INFO:root:Registering test source 2 with columns: ['product_id', 'product_parent', 'product_title', 'category_id', 'mlinspect_lineage_2_0']\n",
      "INFO:root:\n",
      "                  CREATE OR REPLACE VIEW _freamon_test_source_2_with_prov_view AS \n",
      "                  SELECT \n",
      "                  \"product_id\" AS \"product_id\", \"product_parent\" AS \"product_parent\", \"product_title\" AS \"product_title\", \"category_id\" AS \"category_id\", \"mlinspect_lineage_2_0\" AS \"prov_id_source_2\"\n",
      "                  FROM _freamon_test_source_2\n",
      "                \n",
      "INFO:root:Registering test source 3 with columns: ['id', 'category', 'mlinspect_lineage_3_0']\n",
      "INFO:root:\n",
      "                  CREATE OR REPLACE VIEW _freamon_test_source_3_with_prov_view AS \n",
      "                  SELECT \n",
      "                  \"id\" AS \"id\", \"category\" AS \"category\", \"mlinspect_lineage_3_0\" AS \"prov_id_source_3\"\n",
      "                  FROM _freamon_test_source_3\n",
      "                \n",
      "INFO:root:Registering test source 1 with columns: ['review_id', 'star_rating', 'helpful_votes', 'total_votes', 'mlinspect_lineage_1_0']\n",
      "INFO:root:\n",
      "                  CREATE OR REPLACE VIEW _freamon_test_source_1_with_prov_view AS \n",
      "                  SELECT \n",
      "                  \"review_id\" AS \"review_id\", \"star_rating\" AS \"star_rating\", \"helpful_votes\" AS \"helpful_votes\", \"total_votes\" AS \"total_votes\", \"mlinspect_lineage_1_0\" AS \"prov_id_source_1\"\n",
      "                  FROM _freamon_test_source_1\n",
      "                \n",
      "INFO:root:Registering test source 0 with columns: ['marketplace', 'customer_id', 'review_id', 'product_id', 'vine', 'third_party', 'review_headline', 'review_body', 'review_date', 'mlinspect_lineage_0_0']\n",
      "INFO:root:\n",
      "                  CREATE OR REPLACE VIEW _freamon_test_source_0_with_prov_view AS \n",
      "                  SELECT \n",
      "                  \"marketplace\" AS \"marketplace\", \"customer_id\" AS \"customer_id\", \"review_id\" AS \"review_id\", \"product_id\" AS \"product_id\", \"vine\" AS \"vine\", \"third_party\" AS \"third_party\", \"review_headline\" AS \"review_headline\", \"review_body\" AS \"review_body\", \"review_date\" AS \"review_date\", \"mlinspect_lineage_0_0\" AS \"prov_id_source_0\"\n",
      "                  FROM _freamon_test_source_0\n",
      "                \n",
      "INFO:root:Registering train source 2 with columns: ['product_id', 'product_parent', 'product_title', 'category_id', 'mlinspect_lineage_2_0']\n",
      "INFO:root:\n",
      "                  CREATE OR REPLACE VIEW _freamon_train_source_2_with_prov_view AS \n",
      "                  SELECT \n",
      "                  \"product_id\" AS \"product_id\", \"product_parent\" AS \"product_parent\", \"product_title\" AS \"product_title\", \"category_id\" AS \"category_id\", \"mlinspect_lineage_2_0\" AS \"prov_id_source_2\"\n",
      "                  FROM _freamon_train_source_2\n",
      "                \n",
      "INFO:root:Registering train source 3 with columns: ['id', 'category', 'mlinspect_lineage_3_0']\n",
      "INFO:root:\n",
      "                  CREATE OR REPLACE VIEW _freamon_train_source_3_with_prov_view AS \n",
      "                  SELECT \n",
      "                  \"id\" AS \"id\", \"category\" AS \"category\", \"mlinspect_lineage_3_0\" AS \"prov_id_source_3\"\n",
      "                  FROM _freamon_train_source_3\n",
      "                \n",
      "INFO:root:Registering train source 1 with columns: ['review_id', 'star_rating', 'helpful_votes', 'total_votes', 'mlinspect_lineage_1_0']\n",
      "INFO:root:\n",
      "                  CREATE OR REPLACE VIEW _freamon_train_source_1_with_prov_view AS \n",
      "                  SELECT \n",
      "                  \"review_id\" AS \"review_id\", \"star_rating\" AS \"star_rating\", \"helpful_votes\" AS \"helpful_votes\", \"total_votes\" AS \"total_votes\", \"mlinspect_lineage_1_0\" AS \"prov_id_source_1\"\n",
      "                  FROM _freamon_train_source_1\n",
      "                \n",
      "INFO:root:Registering train source 0 with columns: ['marketplace', 'customer_id', 'review_id', 'product_id', 'vine', 'third_party', 'review_headline', 'review_body', 'review_date', 'mlinspect_lineage_0_0']\n",
      "INFO:root:\n",
      "                  CREATE OR REPLACE VIEW _freamon_train_source_0_with_prov_view AS \n",
      "                  SELECT \n",
      "                  \"marketplace\" AS \"marketplace\", \"customer_id\" AS \"customer_id\", \"review_id\" AS \"review_id\", \"product_id\" AS \"product_id\", \"vine\" AS \"vine\", \"third_party\" AS \"third_party\", \"review_headline\" AS \"review_headline\", \"review_body\" AS \"review_body\", \"review_date\" AS \"review_date\", \"mlinspect_lineage_0_0\" AS \"prov_id_source_0\"\n",
      "                  FROM _freamon_train_source_0\n",
      "                \n"
     ]
    }
   ],
   "source": [
    "from freamon.adapters.mlinspect.provenance import from_py_file\n",
    "view_generator = from_py_file('pipelines--mlinspect--amazon-reviews.py')"
   ]
  },
  {
   "cell_type": "code",
   "execution_count": null,
   "metadata": {},
   "outputs": [],
   "source": [
    "view_generator.db.execute(\"SELECT * FROM _freamon_test_view\").df()"
   ]
  },
  {
   "cell_type": "code",
   "execution_count": null,
   "metadata": {},
   "outputs": [],
   "source": [
    "view_generator.db.execute(\"SELECT * FROM _freamon_source_0_with_prov_view\").df()"
   ]
  },
  {
   "cell_type": "code",
   "execution_count": null,
   "metadata": {},
   "outputs": [],
   "source": [
    "view_generator.db.execute(\"SELECT * FROM _freamon_source_1_with_prov_view\").df()"
   ]
  },
  {
   "cell_type": "code",
   "execution_count": null,
   "metadata": {},
   "outputs": [],
   "source": [
    "view_generator.db.execute(\"SELECT * FROM _freamon_source_2_with_prov_view\").df()"
   ]
  },
  {
   "cell_type": "code",
   "execution_count": null,
   "metadata": {},
   "outputs": [],
   "source": [
    "view_generator.db.execute(\"SELECT * FROM _freamon_source_3_with_prov_view\").df()"
   ]
  },
  {
   "cell_type": "markdown",
   "metadata": {},
   "source": [
    "## Generate and materialize a view for data debugging"
   ]
  },
  {
   "cell_type": "code",
   "execution_count": 5,
   "metadata": {},
   "outputs": [
    {
     "name": "stderr",
     "output_type": "stream",
     "text": [
      "INFO:root:\n",
      "SELECT fs3.category, fs0.marketplace, ftv.y_true, ftv.y_pred\n",
      "FROM _freamon_test_view ftv\n",
      "JOIN _freamon_test_source_0_with_prov_view fs0  ON fs0.prov_id_source_0 = ftv.prov_id_source_0\n",
      "JOIN _freamon_test_source_3_with_prov_view fs3  ON fs3.prov_id_source_3 = ftv.prov_id_source_3\n",
      "   \n",
      "        \n"
     ]
    },
    {
     "data": {
      "text/html": [
       "<div>\n",
       "<style scoped>\n",
       "    .dataframe tbody tr th:only-of-type {\n",
       "        vertical-align: middle;\n",
       "    }\n",
       "\n",
       "    .dataframe tbody tr th {\n",
       "        vertical-align: top;\n",
       "    }\n",
       "\n",
       "    .dataframe thead th {\n",
       "        text-align: right;\n",
       "    }\n",
       "</style>\n",
       "<table border=\"1\" class=\"dataframe\">\n",
       "  <thead>\n",
       "    <tr style=\"text-align: right;\">\n",
       "      <th></th>\n",
       "      <th>category</th>\n",
       "      <th>marketplace</th>\n",
       "      <th>y_true</th>\n",
       "      <th>y_pred</th>\n",
       "    </tr>\n",
       "  </thead>\n",
       "  <tbody>\n",
       "    <tr>\n",
       "      <th>0</th>\n",
       "      <td>Digital_Video_Games</td>\n",
       "      <td>US</td>\n",
       "      <td>0</td>\n",
       "      <td>0</td>\n",
       "    </tr>\n",
       "    <tr>\n",
       "      <th>1</th>\n",
       "      <td>Digital_Video_Games</td>\n",
       "      <td>US</td>\n",
       "      <td>1</td>\n",
       "      <td>1</td>\n",
       "    </tr>\n",
       "    <tr>\n",
       "      <th>2</th>\n",
       "      <td>Digital_Video_Games</td>\n",
       "      <td>US</td>\n",
       "      <td>1</td>\n",
       "      <td>1</td>\n",
       "    </tr>\n",
       "    <tr>\n",
       "      <th>3</th>\n",
       "      <td>Digital_Video_Games</td>\n",
       "      <td>US</td>\n",
       "      <td>1</td>\n",
       "      <td>1</td>\n",
       "    </tr>\n",
       "    <tr>\n",
       "      <th>4</th>\n",
       "      <td>Digital_Video_Games</td>\n",
       "      <td>US</td>\n",
       "      <td>1</td>\n",
       "      <td>1</td>\n",
       "    </tr>\n",
       "    <tr>\n",
       "      <th>...</th>\n",
       "      <td>...</td>\n",
       "      <td>...</td>\n",
       "      <td>...</td>\n",
       "      <td>...</td>\n",
       "    </tr>\n",
       "    <tr>\n",
       "      <th>25950</th>\n",
       "      <td>Digital_Video_Games</td>\n",
       "      <td>US</td>\n",
       "      <td>1</td>\n",
       "      <td>1</td>\n",
       "    </tr>\n",
       "    <tr>\n",
       "      <th>25951</th>\n",
       "      <td>Digital_Video_Games</td>\n",
       "      <td>US</td>\n",
       "      <td>1</td>\n",
       "      <td>1</td>\n",
       "    </tr>\n",
       "    <tr>\n",
       "      <th>25952</th>\n",
       "      <td>Digital_Video_Games</td>\n",
       "      <td>US</td>\n",
       "      <td>0</td>\n",
       "      <td>0</td>\n",
       "    </tr>\n",
       "    <tr>\n",
       "      <th>25953</th>\n",
       "      <td>Digital_Video_Games</td>\n",
       "      <td>US</td>\n",
       "      <td>1</td>\n",
       "      <td>1</td>\n",
       "    </tr>\n",
       "    <tr>\n",
       "      <th>25954</th>\n",
       "      <td>Digital_Video_Games</td>\n",
       "      <td>US</td>\n",
       "      <td>0</td>\n",
       "      <td>0</td>\n",
       "    </tr>\n",
       "  </tbody>\n",
       "</table>\n",
       "<p>25955 rows × 4 columns</p>\n",
       "</div>"
      ],
      "text/plain": [
       "                  category marketplace  y_true  y_pred\n",
       "0      Digital_Video_Games          US       0       0\n",
       "1      Digital_Video_Games          US       1       1\n",
       "2      Digital_Video_Games          US       1       1\n",
       "3      Digital_Video_Games          US       1       1\n",
       "4      Digital_Video_Games          US       1       1\n",
       "...                    ...         ...     ...     ...\n",
       "25950  Digital_Video_Games          US       1       1\n",
       "25951  Digital_Video_Games          US       1       1\n",
       "25952  Digital_Video_Games          US       0       0\n",
       "25953  Digital_Video_Games          US       1       1\n",
       "25954  Digital_Video_Games          US       0       0\n",
       "\n",
       "[25955 rows x 4 columns]"
      ]
     },
     "execution_count": 5,
     "metadata": {},
     "output_type": "execute_result"
    }
   ],
   "source": [
    "df = view_generator.test_view(\n",
    "    sliceable_by=['category', 'marketplace'], \n",
    "    with_features=False, \n",
    "    with_y_true=True, \n",
    "    with_y_pred=True)\n",
    "\n",
    "df"
   ]
  },
  {
   "cell_type": "markdown",
   "metadata": {},
   "source": [
    "## Compute group-wise confusion matrix (for fairness metrics) via an aggregation query"
   ]
  },
  {
   "cell_type": "code",
   "execution_count": null,
   "metadata": {},
   "outputs": [],
   "source": [
    "view_generator.query(\n",
    "\"\"\"\n",
    "SELECT \n",
    "    race=='White' AS privileged, \n",
    "    SUM(CAST((y_true=1 AND y_pred=1) AS INTEGER)) AS true_positive,\n",
    "    SUM(CAST((y_true=1 AND y_pred=0) AS INTEGER)) AS false_negative,    \n",
    "    SUM(CAST((y_true=0 AND y_pred=1) AS INTEGER)) AS false_positive,    \n",
    "    SUM(CAST((y_true=0 AND y_pred=0) AS INTEGER)) AS true_negative,    \n",
    "FROM df\n",
    "GROUP BY privileged\n",
    "\"\"\"\n",
    ")"
   ]
  },
  {
   "cell_type": "markdown",
   "metadata": {},
   "source": [
    "## Slicefinder via aggregation queries"
   ]
  },
  {
   "cell_type": "code",
   "execution_count": null,
   "metadata": {},
   "outputs": [],
   "source": [
    "view_generator.query(\n",
    "\"\"\"\n",
    "SELECT \n",
    "    race='White' AS white,\n",
    "    sex='Male' AS male,\n",
    "    AVG(-(y_true * log(y_pred_proba) + (1 - y_true) * log(1.0 - y_pred_proba))) AS avg_loss,\n",
    "    VARIANCE(-(y_true * log(y_pred_proba) + (1 - y_true) * log(1.0 - y_pred_proba))) AS var_loss,    \n",
    "    COUNT(*) as size\n",
    "    \n",
    "FROM (SELECT race, sex, y_true, IF(y_pred=0, 0.00001, 0.99999) AS y_pred_proba FROM df)\n",
    "GROUP BY GROUPING SETS ((race='White', sex='Male'), (race='White'), (sex='Male'))\n",
    "\"\"\"\n",
    ")"
   ]
  },
  {
   "cell_type": "code",
   "execution_count": null,
   "metadata": {},
   "outputs": [],
   "source": []
  },
  {
   "cell_type": "code",
   "execution_count": null,
   "metadata": {},
   "outputs": [],
   "source": []
  }
 ],
 "metadata": {
  "kernelspec": {
   "display_name": "Python 3 (ipykernel)",
   "language": "python",
   "name": "python3"
  },
  "language_info": {
   "codemirror_mode": {
    "name": "ipython",
    "version": 3
   },
   "file_extension": ".py",
   "mimetype": "text/x-python",
   "name": "python",
   "nbconvert_exporter": "python",
   "pygments_lexer": "ipython3",
   "version": "3.9.13"
  }
 },
 "nbformat": 4,
 "nbformat_minor": 4
}
