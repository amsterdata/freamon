{
 "cells": [
  {
   "cell_type": "code",
   "execution_count": 1,
   "metadata": {},
   "outputs": [],
   "source": [
    "import logging\n",
    "import warnings\n",
    "\n",
    "logging.basicConfig()\n",
    "logging.getLogger().setLevel(logging.INFO)\n",
    "\n",
    "warnings.filterwarnings(\"ignore\")"
   ]
  },
  {
   "cell_type": "markdown",
   "metadata": {},
   "source": [
    "## Execute a pipeline and setup a view generator"
   ]
  },
  {
   "cell_type": "code",
   "execution_count": 2,
   "metadata": {},
   "outputs": [
    {
     "name": "stderr",
     "output_type": "stream",
     "text": [
      "INFO:root:Patching sys.argv with ['eyes']\n"
     ]
    },
    {
     "name": "stdout",
     "output_type": "stream",
     "text": [
      "58920\n",
      "29273\n"
     ]
    },
    {
     "name": "stderr",
     "output_type": "stream",
     "text": [
      "INFO:root:Registering source 2 with columns: ['product_id', 'product_parent', 'product_title', 'category_id', 'mlinspect_lineage_2_0']\n",
      "INFO:root:\n",
      "                  CREATE OR REPLACE VIEW _freamon_source_2_with_prov_view AS \n",
      "                  SELECT \n",
      "                  \"product_id\" AS \"product_id\", \"product_parent\" AS \"product_parent\", \"product_title\" AS \"product_title\", \"category_id\" AS \"category_id\", \"mlinspect_lineage_2_0\" AS \"prov_id_source_2\"\n",
      "                  FROM _freamon_source_2\n",
      "                \n",
      "INFO:root:Registering source 3 with columns: ['id', 'category', 'mlinspect_lineage_3_0']\n",
      "INFO:root:\n",
      "                  CREATE OR REPLACE VIEW _freamon_source_3_with_prov_view AS \n",
      "                  SELECT \n",
      "                  \"id\" AS \"id\", \"category\" AS \"category\", \"mlinspect_lineage_3_0\" AS \"prov_id_source_3\"\n",
      "                  FROM _freamon_source_3\n",
      "                \n",
      "INFO:root:Registering source 1 with columns: ['review_id', 'star_rating', 'helpful_votes', 'total_votes', 'mlinspect_lineage_1_0']\n",
      "INFO:root:\n",
      "                  CREATE OR REPLACE VIEW _freamon_source_1_with_prov_view AS \n",
      "                  SELECT \n",
      "                  \"review_id\" AS \"review_id\", \"star_rating\" AS \"star_rating\", \"helpful_votes\" AS \"helpful_votes\", \"total_votes\" AS \"total_votes\", \"mlinspect_lineage_1_0\" AS \"prov_id_source_1\"\n",
      "                  FROM _freamon_source_1\n",
      "                \n",
      "INFO:root:Registering source 0 with columns: ['marketplace', 'customer_id', 'review_id', 'product_id', 'vine', 'third_party', 'review_headline', 'review_body', 'review_date', 'mlinspect_lineage_0_0']\n",
      "INFO:root:\n",
      "                  CREATE OR REPLACE VIEW _freamon_source_0_with_prov_view AS \n",
      "                  SELECT \n",
      "                  \"marketplace\" AS \"marketplace\", \"customer_id\" AS \"customer_id\", \"review_id\" AS \"review_id\", \"product_id\" AS \"product_id\", \"vine\" AS \"vine\", \"third_party\" AS \"third_party\", \"review_headline\" AS \"review_headline\", \"review_body\" AS \"review_body\", \"review_date\" AS \"review_date\", \"mlinspect_lineage_0_0\" AS \"prov_id_source_0\"\n",
      "                  FROM _freamon_source_0\n",
      "                \n"
     ]
    },
    {
     "name": "stdout",
     "output_type": "stream",
     "text": [
      "Test accuracy 0.8704422032583398\n"
     ]
    }
   ],
   "source": [
    "from freamon.adapters.mlinspect.provenance import from_py_file\n",
    "view_generator = from_py_file('classify_amazon_reviews_sklearn.py')"
   ]
  },
  {
   "cell_type": "markdown",
   "metadata": {},
   "source": [
    "## Generate and materialize a view for data debugging"
   ]
  },
  {
   "cell_type": "code",
   "execution_count": 3,
   "metadata": {},
   "outputs": [
    {
     "data": {
      "text/html": [
       "<div>\n",
       "<style scoped>\n",
       "    .dataframe tbody tr th:only-of-type {\n",
       "        vertical-align: middle;\n",
       "    }\n",
       "\n",
       "    .dataframe tbody tr th {\n",
       "        vertical-align: top;\n",
       "    }\n",
       "\n",
       "    .dataframe thead th {\n",
       "        text-align: right;\n",
       "    }\n",
       "</style>\n",
       "<table border=\"1\" class=\"dataframe\">\n",
       "  <thead>\n",
       "    <tr style=\"text-align: right;\">\n",
       "      <th></th>\n",
       "      <th>category</th>\n",
       "      <th>star_rating</th>\n",
       "      <th>y_true</th>\n",
       "      <th>y_pred</th>\n",
       "    </tr>\n",
       "  </thead>\n",
       "  <tbody>\n",
       "    <tr>\n",
       "      <th>0</th>\n",
       "      <td>Digital_Software</td>\n",
       "      <td>5</td>\n",
       "      <td>1</td>\n",
       "      <td>1</td>\n",
       "    </tr>\n",
       "    <tr>\n",
       "      <th>1</th>\n",
       "      <td>Digital_Software</td>\n",
       "      <td>4</td>\n",
       "      <td>1</td>\n",
       "      <td>1</td>\n",
       "    </tr>\n",
       "    <tr>\n",
       "      <th>2</th>\n",
       "      <td>Digital_Software</td>\n",
       "      <td>5</td>\n",
       "      <td>1</td>\n",
       "      <td>1</td>\n",
       "    </tr>\n",
       "    <tr>\n",
       "      <th>3</th>\n",
       "      <td>Digital_Software</td>\n",
       "      <td>5</td>\n",
       "      <td>1</td>\n",
       "      <td>1</td>\n",
       "    </tr>\n",
       "    <tr>\n",
       "      <th>4</th>\n",
       "      <td>Digital_Video_Games</td>\n",
       "      <td>5</td>\n",
       "      <td>1</td>\n",
       "      <td>1</td>\n",
       "    </tr>\n",
       "    <tr>\n",
       "      <th>...</th>\n",
       "      <td>...</td>\n",
       "      <td>...</td>\n",
       "      <td>...</td>\n",
       "      <td>...</td>\n",
       "    </tr>\n",
       "    <tr>\n",
       "      <th>29642</th>\n",
       "      <td>Digital_Video_Games</td>\n",
       "      <td>5</td>\n",
       "      <td>1</td>\n",
       "      <td>1</td>\n",
       "    </tr>\n",
       "    <tr>\n",
       "      <th>29643</th>\n",
       "      <td>Digital_Video_Games</td>\n",
       "      <td>1</td>\n",
       "      <td>1</td>\n",
       "      <td>1</td>\n",
       "    </tr>\n",
       "    <tr>\n",
       "      <th>29644</th>\n",
       "      <td>Digital_Video_Games</td>\n",
       "      <td>5</td>\n",
       "      <td>0</td>\n",
       "      <td>1</td>\n",
       "    </tr>\n",
       "    <tr>\n",
       "      <th>29645</th>\n",
       "      <td>Digital_Software</td>\n",
       "      <td>2</td>\n",
       "      <td>1</td>\n",
       "      <td>0</td>\n",
       "    </tr>\n",
       "    <tr>\n",
       "      <th>29646</th>\n",
       "      <td>Digital_Video_Games</td>\n",
       "      <td>3</td>\n",
       "      <td>1</td>\n",
       "      <td>1</td>\n",
       "    </tr>\n",
       "  </tbody>\n",
       "</table>\n",
       "<p>29647 rows × 4 columns</p>\n",
       "</div>"
      ],
      "text/plain": [
       "                  category  star_rating  y_true  y_pred\n",
       "0         Digital_Software            5       1       1\n",
       "1         Digital_Software            4       1       1\n",
       "2         Digital_Software            5       1       1\n",
       "3         Digital_Software            5       1       1\n",
       "4      Digital_Video_Games            5       1       1\n",
       "...                    ...          ...     ...     ...\n",
       "29642  Digital_Video_Games            5       1       1\n",
       "29643  Digital_Video_Games            1       1       1\n",
       "29644  Digital_Video_Games            5       0       1\n",
       "29645     Digital_Software            2       1       0\n",
       "29646  Digital_Video_Games            3       1       1\n",
       "\n",
       "[29647 rows x 4 columns]"
      ]
     },
     "execution_count": 3,
     "metadata": {},
     "output_type": "execute_result"
    }
   ],
   "source": [
    "materialized_view = view_generator.test_view(\n",
    "    sliceable_by=['category', 'star_rating'], \n",
    "    with_features=False, \n",
    "    with_y_true=True, \n",
    "    with_y_pred=True)\n",
    "\n",
    "materialized_view"
   ]
  },
  {
   "cell_type": "markdown",
   "metadata": {},
   "source": [
    "## Feed the materialized view into the fairlearn library to compute fairness metrics"
   ]
  },
  {
   "cell_type": "code",
   "execution_count": 4,
   "metadata": {},
   "outputs": [],
   "source": [
    "from fairlearn.metrics import MetricFrame, false_positive_rate\n",
    "from sklearn.metrics import recall_score\n",
    "\n",
    "fairness_metrics = MetricFrame(\n",
    "    metrics={ 'tpr' : recall_score, 'fpr' : false_positive_rate },\n",
    "    y_true=materialized_view.y_true,\n",
    "    y_pred=materialized_view.y_pred,\n",
    "    sensitive_features=materialized_view.star_rating\n",
    ")"
   ]
  },
  {
   "cell_type": "code",
   "execution_count": 5,
   "metadata": {},
   "outputs": [
    {
     "data": {
      "text/plain": [
       "tpr    0.948982\n",
       "fpr    0.342514\n",
       "dtype: object"
      ]
     },
     "execution_count": 5,
     "metadata": {},
     "output_type": "execute_result"
    }
   ],
   "source": [
    "fairness_metrics.overall"
   ]
  },
  {
   "cell_type": "code",
   "execution_count": 6,
   "metadata": {},
   "outputs": [
    {
     "data": {
      "text/html": [
       "<div>\n",
       "<style scoped>\n",
       "    .dataframe tbody tr th:only-of-type {\n",
       "        vertical-align: middle;\n",
       "    }\n",
       "\n",
       "    .dataframe tbody tr th {\n",
       "        vertical-align: top;\n",
       "    }\n",
       "\n",
       "    .dataframe thead th {\n",
       "        text-align: right;\n",
       "    }\n",
       "</style>\n",
       "<table border=\"1\" class=\"dataframe\">\n",
       "  <thead>\n",
       "    <tr style=\"text-align: right;\">\n",
       "      <th></th>\n",
       "      <th>tpr</th>\n",
       "      <th>fpr</th>\n",
       "    </tr>\n",
       "    <tr>\n",
       "      <th>star_rating</th>\n",
       "      <th></th>\n",
       "      <th></th>\n",
       "    </tr>\n",
       "  </thead>\n",
       "  <tbody>\n",
       "    <tr>\n",
       "      <th>1</th>\n",
       "      <td>0.878457</td>\n",
       "      <td>0.233231</td>\n",
       "    </tr>\n",
       "    <tr>\n",
       "      <th>2</th>\n",
       "      <td>0.91342</td>\n",
       "      <td>0.380132</td>\n",
       "    </tr>\n",
       "    <tr>\n",
       "      <th>3</th>\n",
       "      <td>0.939338</td>\n",
       "      <td>0.395659</td>\n",
       "    </tr>\n",
       "    <tr>\n",
       "      <th>4</th>\n",
       "      <td>0.959288</td>\n",
       "      <td>0.455979</td>\n",
       "    </tr>\n",
       "    <tr>\n",
       "      <th>5</th>\n",
       "      <td>0.966078</td>\n",
       "      <td>0.450439</td>\n",
       "    </tr>\n",
       "  </tbody>\n",
       "</table>\n",
       "</div>"
      ],
      "text/plain": [
       "                  tpr       fpr\n",
       "star_rating                    \n",
       "1            0.878457  0.233231\n",
       "2             0.91342  0.380132\n",
       "3            0.939338  0.395659\n",
       "4            0.959288  0.455979\n",
       "5            0.966078  0.450439"
      ]
     },
     "execution_count": 6,
     "metadata": {},
     "output_type": "execute_result"
    }
   ],
   "source": [
    "fairness_metrics.by_group"
   ]
  },
  {
   "cell_type": "markdown",
   "metadata": {},
   "source": [
    "## Data-debugging a la SliceFinder via an aggregation query"
   ]
  },
  {
   "cell_type": "code",
   "execution_count": 7,
   "metadata": {},
   "outputs": [
    {
     "data": {
      "text/html": [
       "<div>\n",
       "<style scoped>\n",
       "    .dataframe tbody tr th:only-of-type {\n",
       "        vertical-align: middle;\n",
       "    }\n",
       "\n",
       "    .dataframe tbody tr th {\n",
       "        vertical-align: top;\n",
       "    }\n",
       "\n",
       "    .dataframe thead th {\n",
       "        text-align: right;\n",
       "    }\n",
       "</style>\n",
       "<table border=\"1\" class=\"dataframe\">\n",
       "  <thead>\n",
       "    <tr style=\"text-align: right;\">\n",
       "      <th></th>\n",
       "      <th>top_rated</th>\n",
       "      <th>digi_games</th>\n",
       "      <th>avg_loss</th>\n",
       "      <th>var_loss</th>\n",
       "      <th>size</th>\n",
       "    </tr>\n",
       "  </thead>\n",
       "  <tbody>\n",
       "    <tr>\n",
       "      <th>0</th>\n",
       "      <td>True</td>\n",
       "      <td>False</td>\n",
       "      <td>0.639077</td>\n",
       "      <td>2.787253</td>\n",
       "      <td>9060</td>\n",
       "    </tr>\n",
       "    <tr>\n",
       "      <th>1</th>\n",
       "      <td>True</td>\n",
       "      <td>True</td>\n",
       "      <td>0.387005</td>\n",
       "      <td>1.785410</td>\n",
       "      <td>10155</td>\n",
       "    </tr>\n",
       "    <tr>\n",
       "      <th>2</th>\n",
       "      <td>False</td>\n",
       "      <td>False</td>\n",
       "      <td>0.884920</td>\n",
       "      <td>3.642037</td>\n",
       "      <td>6769</td>\n",
       "    </tr>\n",
       "    <tr>\n",
       "      <th>3</th>\n",
       "      <td>False</td>\n",
       "      <td>True</td>\n",
       "      <td>0.954139</td>\n",
       "      <td>3.861352</td>\n",
       "      <td>3663</td>\n",
       "    </tr>\n",
       "    <tr>\n",
       "      <th>4</th>\n",
       "      <td>True</td>\n",
       "      <td>NaN</td>\n",
       "      <td>0.505859</td>\n",
       "      <td>2.273499</td>\n",
       "      <td>19215</td>\n",
       "    </tr>\n",
       "    <tr>\n",
       "      <th>5</th>\n",
       "      <td>False</td>\n",
       "      <td>NaN</td>\n",
       "      <td>0.909225</td>\n",
       "      <td>3.719774</td>\n",
       "      <td>10432</td>\n",
       "    </tr>\n",
       "    <tr>\n",
       "      <th>6</th>\n",
       "      <td>NaN</td>\n",
       "      <td>False</td>\n",
       "      <td>0.744207</td>\n",
       "      <td>3.167374</td>\n",
       "      <td>15829</td>\n",
       "    </tr>\n",
       "    <tr>\n",
       "      <th>7</th>\n",
       "      <td>NaN</td>\n",
       "      <td>True</td>\n",
       "      <td>0.537346</td>\n",
       "      <td>2.398145</td>\n",
       "      <td>13818</td>\n",
       "    </tr>\n",
       "  </tbody>\n",
       "</table>\n",
       "</div>"
      ],
      "text/plain": [
       "  top_rated digi_games  avg_loss  var_loss   size\n",
       "0      True      False  0.639077  2.787253   9060\n",
       "1      True       True  0.387005  1.785410  10155\n",
       "2     False      False  0.884920  3.642037   6769\n",
       "3     False       True  0.954139  3.861352   3663\n",
       "4      True        NaN  0.505859  2.273499  19215\n",
       "5     False        NaN  0.909225  3.719774  10432\n",
       "6       NaN      False  0.744207  3.167374  15829\n",
       "7       NaN       True  0.537346  2.398145  13818"
      ]
     },
     "execution_count": 7,
     "metadata": {},
     "output_type": "execute_result"
    }
   ],
   "source": [
    "view_generator.execute_query(\n",
    "\"\"\"\n",
    "SELECT \n",
    "    star_rating > 3 as top_rated,\n",
    "    category = 'Digital_Video_Games' as digi_games,\n",
    "    AVG(-(y_true * log(y_pred_proba) + (1 - y_true) * log(1.0 - y_pred_proba))) AS avg_loss,\n",
    "    VARIANCE(-(y_true * log(y_pred_proba) + (1 - y_true) * log(1.0 - y_pred_proba))) AS var_loss,    \n",
    "    COUNT(*) as size\n",
    "    \n",
    "FROM (SELECT star_rating, category, y_true, IF(y_pred=0, 0.00001, 0.99999) AS y_pred_proba FROM materialized_view)\n",
    "GROUP BY GROUPING SETS ((star_rating > 3, category = 'Digital_Video_Games'), (star_rating > 3), \n",
    "    (category = 'Digital_Video_Games'))\n",
    "\"\"\"\n",
    ")"
   ]
  },
  {
   "cell_type": "code",
   "execution_count": null,
   "metadata": {},
   "outputs": [],
   "source": []
  }
 ],
 "metadata": {
  "kernelspec": {
   "display_name": "Python 3 (ipykernel)",
   "language": "python",
   "name": "python3"
  },
  "language_info": {
   "codemirror_mode": {
    "name": "ipython",
    "version": 3
   },
   "file_extension": ".py",
   "mimetype": "text/x-python",
   "name": "python",
   "nbconvert_exporter": "python",
   "pygments_lexer": "ipython3",
   "version": "3.9.13"
  }
 },
 "nbformat": 4,
 "nbformat_minor": 4
}
