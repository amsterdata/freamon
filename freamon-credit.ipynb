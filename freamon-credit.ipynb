{
 "cells": [
  {
   "cell_type": "code",
   "execution_count": 11,
   "metadata": {},
   "outputs": [],
   "source": [
    "import pandas as pd\n",
    "import numpy as np\n",
    "\n",
    "from sklearn.linear_model import SGDClassifier\n",
    "from sklearn.impute import SimpleImputer\n",
    "from sklearn.pipeline import Pipeline\n",
    "from sklearn.preprocessing import StandardScaler, FunctionTransformer, OneHotEncoder, label_binarize\n",
    "from sklearn.compose import ColumnTransformer\n",
    "\n",
    "from arguseyes import ArgusEyes\n",
    "import logging\n",
    "from arguseyes.refinements import InputUsage, FairnessMetrics\n",
    "import time\n",
    "\n",
    "logging.basicConfig(format='%(levelname)s:%(message)s', level=logging.INFO)"
   ]
  },
  {
   "cell_type": "code",
   "execution_count": 2,
   "metadata": {},
   "outputs": [],
   "source": [
    "from freamon_credit import load_train_and_test_data, filter_data, create_feature_encoding_pipeline, \\\n",
    "                           extract_labels, create_training_pipeline, random_subset"
   ]
  },
  {
   "cell_type": "code",
   "execution_count": 15,
   "metadata": {},
   "outputs": [],
   "source": [
    "def execute_manually(seed):\n",
    "    np.random.seed(seed)\n",
    "\n",
    "    train_location = 'arguseyes/example_pipelines/datasets/income/adult.data'\n",
    "    test_location = 'arguseyes/example_pipelines/datasets/income/adult.test'\n",
    "\n",
    "    train_all, test_all = load_train_and_test_data(train_location, test_location)\n",
    "\n",
    "    train_all['id'] = list(range(len(train_all)))\n",
    "    test_all['id'] = list(range(len(test_all)))\n",
    "\n",
    "    workclasses_to_exclude=random_subset(['Self-emp-not-inc', 'Private', 'Local-gov', 'Self-emp-inc',\n",
    "           'Without-pay', 'Never-worked'])\n",
    "\n",
    "    train, test = filter_data(train_all, test_all, workclasses_to_exclude)\n",
    "\n",
    "    train_labels, test_labels = extract_labels(train, test)\n",
    "    pipeline = create_training_pipeline()\n",
    "\n",
    "    model = pipeline.fit(train, train_labels)\n",
    "\n",
    "    score = model.score(test, test_labels)\n",
    "\n",
    "    #print(\"Model accuracy on held-out data\", score)\n",
    "    \n",
    "    retained_ids = list(set(train.id))\n",
    "    usage = np.array(train_all.id.isin(retained_ids))\n",
    "    #print('Usage', np.sum(usage))\n",
    "    \n",
    "    # Group fairness computation\n",
    "    from sklearn.metrics import confusion_matrix\n",
    "\n",
    "    eval_data = test.copy(deep=True)\n",
    "\n",
    "    eval_data['true'] = test_labels\n",
    "    eval_data['pred'] = model.predict(test)\n",
    "\n",
    "    priv = eval_data[eval_data.sex=='Male']\n",
    "    dis = eval_data[eval_data.sex=='Female']\n",
    "\n",
    "    priv_tn, priv_fp, priv_fn, priv_tp = confusion_matrix(priv['true'], priv['pred']).ravel()\n",
    "    dis_tn, dis_fp, dis_fn, dis_tp = confusion_matrix(dis['true'], dis['pred']).ravel()\n",
    "\n",
    "    eq_opp = (float(dis_fn) / (dis_fn + dis_tp)) - (float(priv_fn) / (priv_fn + priv_tp))\n",
    "    \n",
    "    #print('Eq opp:', eq_opp)\n",
    "    return eq_opp, usage"
   ]
  },
  {
   "cell_type": "code",
   "execution_count": 8,
   "metadata": {},
   "outputs": [
    {
     "name": "stdout",
     "output_type": "stream",
     "text": [
      "Model accuracy on held-out data 0.818609022556391\n",
      "Usage 4115\n",
      "Eq opp: 0.1432061579651941\n"
     ]
    },
    {
     "name": "stderr",
     "output_type": "stream",
     "text": [
      "/Users/ssc/projects/arguseyes/venv/lib/python3.9/site-packages/sklearn/utils/validation.py:72: DataConversionWarning: A column-vector y was passed when a 1d array was expected. Please change the shape of y to (n_samples, ), for example using ravel().\n",
      "  return f(**kwargs)\n"
     ]
    }
   ],
   "source": [
    "execute_manually(1234)"
   ]
  },
  {
   "cell_type": "code",
   "execution_count": 19,
   "metadata": {},
   "outputs": [],
   "source": [
    "def execute_with_arguseyes(seed):\n",
    "    \n",
    "    cmd_args=[str(seed)]\n",
    "\n",
    "    eq_opp = 0\n",
    "    usage = None\n",
    "\n",
    "\n",
    "    eyes = ArgusEyes('freamon-testing', './mlruns')\n",
    "    \n",
    "    overall_start = time.time()\n",
    "    with eyes.classification_pipeline_from_py_file('freamon_credit.py', cmd_args=cmd_args) as pipeline:\n",
    "\n",
    "        tagged_inputs = pipeline.compute(InputUsage())\n",
    "        priv_tn, priv_fp, priv_fn, priv_tp, dis_tn, dis_fp, dis_fn, dis_tp = \\\n",
    "            pipeline.compute(FairnessMetrics('sex', 'Male'))\n",
    "        \n",
    "        eq_opp = (float(dis_fn) / (dis_fn + dis_tp)) - (float(priv_fn) / (priv_fn + priv_tp))\n",
    "        #print('Equal opportunity', eq_opp)\n",
    "\n",
    "        usage = np.array(tagged_inputs[0].data['__arguseyes__is_used'])\n",
    "        #print(np.sum(usage))\n",
    "    return eq_opp, usage\n"
   ]
  },
  {
   "cell_type": "code",
   "execution_count": 21,
   "metadata": {},
   "outputs": [
    {
     "name": "stderr",
     "output_type": "stream",
     "text": [
      "INFO:Patching sys.argv with ['eyes', '1234']\n",
      "INFO:Created run 7ede20d9680a48e38ff7178826da5be9 for this invocation\n",
      "INFO:Executing instrumented user pipeline with mlinspect\n",
      "INFO:Redirecting the pipeline's stdout to arguseyes-pipeline-output.txt\n",
      "INFO:Identifying training sources\n",
      "INFO:rows_from_operator.keys() dict_keys([0])\n",
      "INFO:operators_with_duplicates set()\n",
      "INFO:sources_one_to_one 1\n",
      "INFO:Found fact table from operator 0 with 32561 records and the following attributes: ['age', 'workclass', 'fnlwgt', 'education', 'education-num', 'marital-status', 'occupation', 'relationship', 'race', 'sex', 'capital-gain', 'capital-loss', 'hours-per-week', 'native-country', 'income-per-year']\n",
      "INFO:Identifying test sources\n",
      "INFO:rows_from_operator.keys() dict_keys([1])\n",
      "INFO:operators_with_duplicates set()\n",
      "INFO:sources_one_to_one 1\n",
      "INFO:Found fact table from operator 1 with 16281 records and the following attributes: ['age', 'workclass', 'fnlwgt', 'education', 'education-num', 'marital-status', 'occupation', 'relationship', 'race', 'sex', 'capital-gain', 'capital-loss', 'hours-per-week', 'native-country', 'income-per-year']\n",
      "INFO:Extracted feature matrix X_train with 4115 rows and 37 columns\n",
      "INFO:Extracted feature matrix X_test with 2128 rows and 37 columns\n",
      "INFO:Extracted y_train, y_test and y_pred\n",
      "INFO:Skipping result logging\n",
      "INFO:Patching sys.argv with ['eyes', '830848']\n",
      "INFO:Created run 1e903e9143ac4f2ebd1a2b49a50385f2 for this invocation\n",
      "INFO:Executing instrumented user pipeline with mlinspect\n",
      "INFO:Redirecting the pipeline's stdout to arguseyes-pipeline-output.txt\n"
     ]
    },
    {
     "name": "stdout",
     "output_type": "stream",
     "text": [
      "0.1432061579651941 0.1432061579651941\n",
      "4115 4115\n"
     ]
    },
    {
     "name": "stderr",
     "output_type": "stream",
     "text": [
      "INFO:Identifying training sources\n",
      "INFO:rows_from_operator.keys() dict_keys([0])\n",
      "INFO:operators_with_duplicates set()\n",
      "INFO:sources_one_to_one 1\n",
      "INFO:Found fact table from operator 0 with 32561 records and the following attributes: ['age', 'workclass', 'fnlwgt', 'education', 'education-num', 'marital-status', 'occupation', 'relationship', 'race', 'sex', 'capital-gain', 'capital-loss', 'hours-per-week', 'native-country', 'income-per-year']\n",
      "INFO:Identifying test sources\n",
      "INFO:rows_from_operator.keys() dict_keys([1])\n",
      "INFO:operators_with_duplicates set()\n",
      "INFO:sources_one_to_one 1\n",
      "INFO:Found fact table from operator 1 with 16281 records and the following attributes: ['age', 'workclass', 'fnlwgt', 'education', 'education-num', 'marital-status', 'occupation', 'relationship', 'race', 'sex', 'capital-gain', 'capital-loss', 'hours-per-week', 'native-country', 'income-per-year']\n",
      "INFO:Extracted feature matrix X_train with 4094 rows and 35 columns\n",
      "INFO:Extracted feature matrix X_test with 2118 rows and 35 columns\n",
      "INFO:Extracted y_train, y_test and y_pred\n",
      "INFO:Skipping result logging\n",
      "INFO:Patching sys.argv with ['eyes', '987496']\n",
      "INFO:Created run 3fad794217b343a797cffef611a48bf2 for this invocation\n",
      "INFO:Executing instrumented user pipeline with mlinspect\n",
      "INFO:Redirecting the pipeline's stdout to arguseyes-pipeline-output.txt\n"
     ]
    },
    {
     "name": "stdout",
     "output_type": "stream",
     "text": [
      "0.05489503363000203 0.05489503363000203\n",
      "4094 4094\n"
     ]
    },
    {
     "name": "stderr",
     "output_type": "stream",
     "text": [
      "INFO:Identifying training sources\n",
      "INFO:rows_from_operator.keys() dict_keys([0])\n",
      "INFO:operators_with_duplicates set()\n",
      "INFO:sources_one_to_one 1\n",
      "INFO:Found fact table from operator 0 with 32561 records and the following attributes: ['age', 'workclass', 'fnlwgt', 'education', 'education-num', 'marital-status', 'occupation', 'relationship', 'race', 'sex', 'capital-gain', 'capital-loss', 'hours-per-week', 'native-country', 'income-per-year']\n",
      "INFO:Identifying test sources\n",
      "INFO:rows_from_operator.keys() dict_keys([1])\n",
      "INFO:operators_with_duplicates set()\n",
      "INFO:sources_one_to_one 1\n",
      "INFO:Found fact table from operator 1 with 16281 records and the following attributes: ['age', 'workclass', 'fnlwgt', 'education', 'education-num', 'marital-status', 'occupation', 'relationship', 'race', 'sex', 'capital-gain', 'capital-loss', 'hours-per-week', 'native-country', 'income-per-year']\n",
      "INFO:Extracted feature matrix X_train with 8728 rows and 37 columns\n",
      "INFO:Extracted feature matrix X_test with 4482 rows and 37 columns\n",
      "INFO:Extracted y_train, y_test and y_pred\n",
      "INFO:Skipping result logging\n",
      "INFO:Patching sys.argv with ['eyes', '429214']\n",
      "INFO:Created run 0fda48e9ae224ce099b844385977bf5f for this invocation\n",
      "INFO:Executing instrumented user pipeline with mlinspect\n",
      "INFO:Redirecting the pipeline's stdout to arguseyes-pipeline-output.txt\n"
     ]
    },
    {
     "name": "stdout",
     "output_type": "stream",
     "text": [
      "-0.00038057074418362813 -0.00038057074418362813\n",
      "8728 8728\n"
     ]
    },
    {
     "name": "stderr",
     "output_type": "stream",
     "text": [
      "INFO:Identifying training sources\n",
      "INFO:rows_from_operator.keys() dict_keys([0])\n",
      "INFO:operators_with_duplicates set()\n",
      "INFO:sources_one_to_one 1\n",
      "INFO:Found fact table from operator 0 with 32561 records and the following attributes: ['age', 'workclass', 'fnlwgt', 'education', 'education-num', 'marital-status', 'occupation', 'relationship', 'race', 'sex', 'capital-gain', 'capital-loss', 'hours-per-week', 'native-country', 'income-per-year']\n",
      "INFO:Identifying test sources\n",
      "INFO:rows_from_operator.keys() dict_keys([1])\n",
      "INFO:operators_with_duplicates set()\n",
      "INFO:sources_one_to_one 1\n",
      "INFO:Found fact table from operator 1 with 16281 records and the following attributes: ['age', 'workclass', 'fnlwgt', 'education', 'education-num', 'marital-status', 'occupation', 'relationship', 'race', 'sex', 'capital-gain', 'capital-loss', 'hours-per-week', 'native-country', 'income-per-year']\n",
      "INFO:Extracted feature matrix X_train with 4101 rows and 36 columns\n",
      "INFO:Extracted feature matrix X_test with 2121 rows and 36 columns\n",
      "INFO:Extracted y_train, y_test and y_pred\n",
      "INFO:Skipping result logging\n",
      "INFO:Patching sys.argv with ['eyes', '178132']\n",
      "INFO:Created run c39056e9807f493b95d57f1a678ccceb for this invocation\n",
      "INFO:Executing instrumented user pipeline with mlinspect\n",
      "INFO:Redirecting the pipeline's stdout to arguseyes-pipeline-output.txt\n"
     ]
    },
    {
     "name": "stdout",
     "output_type": "stream",
     "text": [
      "0.024492152999524452 0.024492152999524452\n",
      "4101 4101\n"
     ]
    },
    {
     "name": "stderr",
     "output_type": "stream",
     "text": [
      "INFO:Identifying training sources\n",
      "INFO:rows_from_operator.keys() dict_keys([0])\n",
      "INFO:operators_with_duplicates set()\n",
      "INFO:sources_one_to_one 1\n",
      "INFO:Found fact table from operator 0 with 32561 records and the following attributes: ['age', 'workclass', 'fnlwgt', 'education', 'education-num', 'marital-status', 'occupation', 'relationship', 'race', 'sex', 'capital-gain', 'capital-loss', 'hours-per-week', 'native-country', 'income-per-year']\n",
      "INFO:Identifying test sources\n",
      "INFO:rows_from_operator.keys() dict_keys([1])\n",
      "INFO:operators_with_duplicates set()\n",
      "INFO:sources_one_to_one 1\n",
      "INFO:Found fact table from operator 1 with 16281 records and the following attributes: ['age', 'workclass', 'fnlwgt', 'education', 'education-num', 'marital-status', 'occupation', 'relationship', 'race', 'sex', 'capital-gain', 'capital-loss', 'hours-per-week', 'native-country', 'income-per-year']\n",
      "INFO:Extracted feature matrix X_train with 29999 rows and 39 columns\n",
      "INFO:Extracted feature matrix X_test with 14950 rows and 39 columns\n",
      "INFO:Extracted y_train, y_test and y_pred\n",
      "INFO:Skipping result logging\n",
      "INFO:Patching sys.argv with ['eyes', '590519']\n",
      "INFO:Created run a2b2d1a671f549a3ae954cee35a3c9a2 for this invocation\n",
      "INFO:Executing instrumented user pipeline with mlinspect\n",
      "INFO:Redirecting the pipeline's stdout to arguseyes-pipeline-output.txt\n"
     ]
    },
    {
     "name": "stdout",
     "output_type": "stream",
     "text": [
      "0.08002953362212861 0.08002953362212861\n",
      "29999 29999\n"
     ]
    },
    {
     "name": "stderr",
     "output_type": "stream",
     "text": [
      "INFO:Identifying training sources\n",
      "INFO:rows_from_operator.keys() dict_keys([0])\n",
      "INFO:operators_with_duplicates set()\n",
      "INFO:sources_one_to_one 1\n",
      "INFO:Found fact table from operator 0 with 32561 records and the following attributes: ['age', 'workclass', 'fnlwgt', 'education', 'education-num', 'marital-status', 'occupation', 'relationship', 'race', 'sex', 'capital-gain', 'capital-loss', 'hours-per-week', 'native-country', 'income-per-year']\n",
      "INFO:Identifying test sources\n",
      "INFO:rows_from_operator.keys() dict_keys([1])\n",
      "INFO:operators_with_duplicates set()\n",
      "INFO:sources_one_to_one 1\n",
      "INFO:Found fact table from operator 1 with 16281 records and the following attributes: ['age', 'workclass', 'fnlwgt', 'education', 'education-num', 'marital-status', 'occupation', 'relationship', 'race', 'sex', 'capital-gain', 'capital-loss', 'hours-per-week', 'native-country', 'income-per-year']\n",
      "INFO:Extracted feature matrix X_train with 31431 rows and 40 columns\n",
      "INFO:Extracted feature matrix X_test with 15695 rows and 40 columns\n",
      "INFO:Extracted y_train, y_test and y_pred\n",
      "INFO:Skipping result logging\n",
      "INFO:Patching sys.argv with ['eyes', '725202']\n",
      "INFO:Created run b9c1ec80c60649e7ab24dd022c04614f for this invocation\n",
      "INFO:Executing instrumented user pipeline with mlinspect\n",
      "INFO:Redirecting the pipeline's stdout to arguseyes-pipeline-output.txt\n"
     ]
    },
    {
     "name": "stdout",
     "output_type": "stream",
     "text": [
      "0.06343364597027601 0.06343364597027601\n",
      "31431 31431\n"
     ]
    },
    {
     "name": "stderr",
     "output_type": "stream",
     "text": [
      "INFO:Identifying training sources\n",
      "INFO:rows_from_operator.keys() dict_keys([0])\n",
      "INFO:operators_with_duplicates set()\n",
      "INFO:sources_one_to_one 1\n",
      "INFO:Found fact table from operator 0 with 32561 records and the following attributes: ['age', 'workclass', 'fnlwgt', 'education', 'education-num', 'marital-status', 'occupation', 'relationship', 'race', 'sex', 'capital-gain', 'capital-loss', 'hours-per-week', 'native-country', 'income-per-year']\n",
      "INFO:Identifying test sources\n",
      "INFO:rows_from_operator.keys() dict_keys([1])\n",
      "INFO:operators_with_duplicates set()\n",
      "INFO:sources_one_to_one 1\n",
      "INFO:Found fact table from operator 1 with 16281 records and the following attributes: ['age', 'workclass', 'fnlwgt', 'education', 'education-num', 'marital-status', 'occupation', 'relationship', 'race', 'sex', 'capital-gain', 'capital-loss', 'hours-per-week', 'native-country', 'income-per-year']\n",
      "INFO:Extracted feature matrix X_train with 4115 rows and 37 columns\n",
      "INFO:Extracted feature matrix X_test with 2128 rows and 37 columns\n",
      "INFO:Extracted y_train, y_test and y_pred\n",
      "INFO:Skipping result logging\n",
      "INFO:Patching sys.argv with ['eyes', '476388']\n",
      "INFO:Created run 79d02b552ab24226b7b40eaeff205fac for this invocation\n",
      "INFO:Executing instrumented user pipeline with mlinspect\n",
      "INFO:Redirecting the pipeline's stdout to arguseyes-pipeline-output.txt\n"
     ]
    },
    {
     "name": "stdout",
     "output_type": "stream",
     "text": [
      "0.04886211512717542 0.04886211512717542\n",
      "4115 4115\n"
     ]
    },
    {
     "name": "stderr",
     "output_type": "stream",
     "text": [
      "INFO:Identifying training sources\n",
      "INFO:rows_from_operator.keys() dict_keys([0])\n",
      "INFO:operators_with_duplicates set()\n",
      "INFO:sources_one_to_one 1\n",
      "INFO:Found fact table from operator 0 with 32561 records and the following attributes: ['age', 'workclass', 'fnlwgt', 'education', 'education-num', 'marital-status', 'occupation', 'relationship', 'race', 'sex', 'capital-gain', 'capital-loss', 'hours-per-week', 'native-country', 'income-per-year']\n",
      "INFO:Identifying test sources\n",
      "INFO:rows_from_operator.keys() dict_keys([1])\n",
      "INFO:operators_with_duplicates set()\n",
      "INFO:sources_one_to_one 1\n",
      "INFO:Found fact table from operator 1 with 16281 records and the following attributes: ['age', 'workclass', 'fnlwgt', 'education', 'education-num', 'marital-status', 'occupation', 'relationship', 'race', 'sex', 'capital-gain', 'capital-loss', 'hours-per-week', 'native-country', 'income-per-year']\n",
      "INFO:Extracted feature matrix X_train with 4108 rows and 36 columns\n",
      "INFO:Extracted feature matrix X_test with 2125 rows and 36 columns\n",
      "INFO:Extracted y_train, y_test and y_pred\n",
      "INFO:Skipping result logging\n",
      "INFO:Patching sys.argv with ['eyes', '133576']\n",
      "INFO:Created run e2c2239b2ddc403692a9018de26ae05e for this invocation\n",
      "INFO:Executing instrumented user pipeline with mlinspect\n",
      "INFO:Redirecting the pipeline's stdout to arguseyes-pipeline-output.txt\n"
     ]
    },
    {
     "name": "stdout",
     "output_type": "stream",
     "text": [
      "0.03480589022757696 0.03480589022757696\n",
      "4108 4108\n"
     ]
    },
    {
     "name": "stderr",
     "output_type": "stream",
     "text": [
      "INFO:Identifying training sources\n",
      "INFO:rows_from_operator.keys() dict_keys([0])\n",
      "INFO:operators_with_duplicates set()\n",
      "INFO:sources_one_to_one 1\n",
      "INFO:Found fact table from operator 0 with 32561 records and the following attributes: ['age', 'workclass', 'fnlwgt', 'education', 'education-num', 'marital-status', 'occupation', 'relationship', 'race', 'sex', 'capital-gain', 'capital-loss', 'hours-per-week', 'native-country', 'income-per-year']\n",
      "INFO:Identifying test sources\n",
      "INFO:rows_from_operator.keys() dict_keys([1])\n",
      "INFO:operators_with_duplicates set()\n",
      "INFO:sources_one_to_one 1\n",
      "INFO:Found fact table from operator 1 with 16281 records and the following attributes: ['age', 'workclass', 'fnlwgt', 'education', 'education-num', 'marital-status', 'occupation', 'relationship', 'race', 'sex', 'capital-gain', 'capital-loss', 'hours-per-week', 'native-country', 'income-per-year']\n",
      "INFO:Extracted feature matrix X_train with 7758 rows and 38 columns\n",
      "INFO:Extracted feature matrix X_test with 4021 rows and 38 columns\n",
      "INFO:Extracted y_train, y_test and y_pred\n",
      "INFO:Skipping result logging\n",
      "INFO:Patching sys.argv with ['eyes', '515078']\n",
      "INFO:Created run 49e56ba58d4546928556707e50040c54 for this invocation\n",
      "INFO:Executing instrumented user pipeline with mlinspect\n",
      "INFO:Redirecting the pipeline's stdout to arguseyes-pipeline-output.txt\n"
     ]
    },
    {
     "name": "stdout",
     "output_type": "stream",
     "text": [
      "0.09371225125564253 0.09371225125564253\n",
      "7758 7758\n"
     ]
    },
    {
     "name": "stderr",
     "output_type": "stream",
     "text": [
      "INFO:Identifying training sources\n",
      "INFO:rows_from_operator.keys() dict_keys([0])\n",
      "INFO:operators_with_duplicates set()\n",
      "INFO:sources_one_to_one 1\n",
      "INFO:Found fact table from operator 0 with 32561 records and the following attributes: ['age', 'workclass', 'fnlwgt', 'education', 'education-num', 'marital-status', 'occupation', 'relationship', 'race', 'sex', 'capital-gain', 'capital-loss', 'hours-per-week', 'native-country', 'income-per-year']\n",
      "INFO:Identifying test sources\n",
      "INFO:rows_from_operator.keys() dict_keys([1])\n",
      "INFO:operators_with_duplicates set()\n",
      "INFO:sources_one_to_one 1\n",
      "INFO:Found fact table from operator 1 with 16281 records and the following attributes: ['age', 'workclass', 'fnlwgt', 'education', 'education-num', 'marital-status', 'occupation', 'relationship', 'race', 'sex', 'capital-gain', 'capital-loss', 'hours-per-week', 'native-country', 'income-per-year']\n",
      "INFO:Extracted feature matrix X_train with 30468 rows and 41 columns\n",
      "INFO:Extracted feature matrix X_test with 15238 rows and 41 columns\n",
      "INFO:Extracted y_train, y_test and y_pred\n",
      "INFO:Skipping result logging\n",
      "INFO:Patching sys.argv with ['eyes', '720668']\n",
      "INFO:Created run 6e5b93b138414a78bdfdcf0db7ec0dbd for this invocation\n",
      "INFO:Executing instrumented user pipeline with mlinspect\n",
      "INFO:Redirecting the pipeline's stdout to arguseyes-pipeline-output.txt\n"
     ]
    },
    {
     "name": "stdout",
     "output_type": "stream",
     "text": [
      "0.08809455011875145 0.08809455011875145\n",
      "30468 30468\n"
     ]
    },
    {
     "name": "stderr",
     "output_type": "stream",
     "text": [
      "INFO:Identifying training sources\n",
      "INFO:rows_from_operator.keys() dict_keys([0])\n",
      "INFO:operators_with_duplicates set()\n",
      "INFO:sources_one_to_one 1\n",
      "INFO:Found fact table from operator 0 with 32561 records and the following attributes: ['age', 'workclass', 'fnlwgt', 'education', 'education-num', 'marital-status', 'occupation', 'relationship', 'race', 'sex', 'capital-gain', 'capital-loss', 'hours-per-week', 'native-country', 'income-per-year']\n",
      "INFO:Identifying test sources\n",
      "INFO:rows_from_operator.keys() dict_keys([1])\n",
      "INFO:operators_with_duplicates set()\n",
      "INFO:sources_one_to_one 1\n",
      "INFO:Found fact table from operator 1 with 16281 records and the following attributes: ['age', 'workclass', 'fnlwgt', 'education', 'education-num', 'marital-status', 'occupation', 'relationship', 'race', 'sex', 'capital-gain', 'capital-loss', 'hours-per-week', 'native-country', 'income-per-year']\n",
      "INFO:Extracted feature matrix X_train with 5210 rows and 36 columns\n",
      "INFO:Extracted feature matrix X_test with 2697 rows and 36 columns\n",
      "INFO:Extracted y_train, y_test and y_pred\n",
      "INFO:Skipping result logging\n",
      "INFO:Patching sys.argv with ['eyes', '449660']\n",
      "INFO:Created run 0036ebe750fe457daaa97c200af47788 for this invocation\n",
      "INFO:Executing instrumented user pipeline with mlinspect\n",
      "INFO:Redirecting the pipeline's stdout to arguseyes-pipeline-output.txt\n"
     ]
    },
    {
     "name": "stdout",
     "output_type": "stream",
     "text": [
      "0.18524685947998837 0.18524685947998837\n",
      "5210 5210\n"
     ]
    },
    {
     "name": "stderr",
     "output_type": "stream",
     "text": [
      "INFO:Identifying training sources\n",
      "INFO:rows_from_operator.keys() dict_keys([0])\n",
      "INFO:operators_with_duplicates set()\n",
      "INFO:sources_one_to_one 1\n",
      "INFO:Found fact table from operator 0 with 32561 records and the following attributes: ['age', 'workclass', 'fnlwgt', 'education', 'education-num', 'marital-status', 'occupation', 'relationship', 'race', 'sex', 'capital-gain', 'capital-loss', 'hours-per-week', 'native-country', 'income-per-year']\n",
      "INFO:Identifying test sources\n",
      "INFO:rows_from_operator.keys() dict_keys([1])\n",
      "INFO:operators_with_duplicates set()\n",
      "INFO:sources_one_to_one 1\n",
      "INFO:Found fact table from operator 1 with 16281 records and the following attributes: ['age', 'workclass', 'fnlwgt', 'education', 'education-num', 'marital-status', 'occupation', 'relationship', 'race', 'sex', 'capital-gain', 'capital-loss', 'hours-per-week', 'native-country', 'income-per-year']\n",
      "INFO:Extracted feature matrix X_train with 26790 rows and 37 columns\n",
      "INFO:Extracted feature matrix X_test with 13328 rows and 37 columns\n",
      "INFO:Extracted y_train, y_test and y_pred\n",
      "INFO:Skipping result logging\n",
      "INFO:Patching sys.argv with ['eyes', '168556']\n",
      "INFO:Created run f185695ebfb34e009e016431edb3dd66 for this invocation\n",
      "INFO:Executing instrumented user pipeline with mlinspect\n",
      "INFO:Redirecting the pipeline's stdout to arguseyes-pipeline-output.txt\n"
     ]
    },
    {
     "name": "stdout",
     "output_type": "stream",
     "text": [
      "0.07847239954662111 0.07847239954662111\n",
      "26790 26790\n"
     ]
    },
    {
     "name": "stderr",
     "output_type": "stream",
     "text": [
      "INFO:Identifying training sources\n",
      "INFO:rows_from_operator.keys() dict_keys([0])\n",
      "INFO:operators_with_duplicates set()\n",
      "INFO:sources_one_to_one 1\n",
      "INFO:Found fact table from operator 0 with 32561 records and the following attributes: ['age', 'workclass', 'fnlwgt', 'education', 'education-num', 'marital-status', 'occupation', 'relationship', 'race', 'sex', 'capital-gain', 'capital-loss', 'hours-per-week', 'native-country', 'income-per-year']\n",
      "INFO:Identifying test sources\n",
      "INFO:rows_from_operator.keys() dict_keys([1])\n",
      "INFO:operators_with_duplicates set()\n",
      "INFO:sources_one_to_one 1\n",
      "INFO:Found fact table from operator 1 with 16281 records and the following attributes: ['age', 'workclass', 'fnlwgt', 'education', 'education-num', 'marital-status', 'occupation', 'relationship', 'race', 'sex', 'capital-gain', 'capital-loss', 'hours-per-week', 'native-country', 'income-per-year']\n",
      "INFO:Extracted feature matrix X_train with 4101 rows and 36 columns\n",
      "INFO:Extracted feature matrix X_test with 2121 rows and 36 columns\n",
      "INFO:Extracted y_train, y_test and y_pred\n",
      "INFO:Skipping result logging\n",
      "INFO:Patching sys.argv with ['eyes', '74155']\n",
      "INFO:Created run 276afe910b7041999073a52b890a2e5a for this invocation\n",
      "INFO:Executing instrumented user pipeline with mlinspect\n",
      "INFO:Redirecting the pipeline's stdout to arguseyes-pipeline-output.txt\n"
     ]
    },
    {
     "name": "stdout",
     "output_type": "stream",
     "text": [
      "0.03984645696039135 0.03984645696039135\n",
      "4101 4101\n"
     ]
    },
    {
     "name": "stderr",
     "output_type": "stream",
     "text": [
      "INFO:Identifying training sources\n",
      "INFO:rows_from_operator.keys() dict_keys([0])\n",
      "INFO:operators_with_duplicates set()\n",
      "INFO:sources_one_to_one 1\n",
      "INFO:Found fact table from operator 0 with 32561 records and the following attributes: ['age', 'workclass', 'fnlwgt', 'education', 'education-num', 'marital-status', 'occupation', 'relationship', 'race', 'sex', 'capital-gain', 'capital-loss', 'hours-per-week', 'native-country', 'income-per-year']\n",
      "INFO:Identifying test sources\n",
      "INFO:rows_from_operator.keys() dict_keys([1])\n",
      "INFO:operators_with_duplicates set()\n",
      "INFO:sources_one_to_one 1\n",
      "INFO:Found fact table from operator 1 with 16281 records and the following attributes: ['age', 'workclass', 'fnlwgt', 'education', 'education-num', 'marital-status', 'occupation', 'relationship', 'race', 'sex', 'capital-gain', 'capital-loss', 'hours-per-week', 'native-country', 'income-per-year']\n",
      "INFO:Extracted feature matrix X_train with 4094 rows and 35 columns\n",
      "INFO:Extracted feature matrix X_test with 2118 rows and 35 columns\n",
      "INFO:Extracted y_train, y_test and y_pred\n",
      "INFO:Skipping result logging\n",
      "INFO:Patching sys.argv with ['eyes', '164680']\n",
      "INFO:Created run d17731048bcb42b79f92350e83859f13 for this invocation\n",
      "INFO:Executing instrumented user pipeline with mlinspect\n",
      "INFO:Redirecting the pipeline's stdout to arguseyes-pipeline-output.txt\n"
     ]
    },
    {
     "name": "stdout",
     "output_type": "stream",
     "text": [
      "0.07357836809565865 0.07357836809565865\n",
      "4094 4094\n"
     ]
    },
    {
     "name": "stderr",
     "output_type": "stream",
     "text": [
      "INFO:Identifying training sources\n",
      "INFO:rows_from_operator.keys() dict_keys([0])\n",
      "INFO:operators_with_duplicates set()\n",
      "INFO:sources_one_to_one 1\n",
      "INFO:Found fact table from operator 0 with 32561 records and the following attributes: ['age', 'workclass', 'fnlwgt', 'education', 'education-num', 'marital-status', 'occupation', 'relationship', 'race', 'sex', 'capital-gain', 'capital-loss', 'hours-per-week', 'native-country', 'income-per-year']\n",
      "INFO:Identifying test sources\n",
      "INFO:rows_from_operator.keys() dict_keys([1])\n",
      "INFO:operators_with_duplicates set()\n",
      "INFO:sources_one_to_one 1\n",
      "INFO:Found fact table from operator 1 with 16281 records and the following attributes: ['age', 'workclass', 'fnlwgt', 'education', 'education-num', 'marital-status', 'occupation', 'relationship', 'race', 'sex', 'capital-gain', 'capital-loss', 'hours-per-week', 'native-country', 'income-per-year']\n",
      "INFO:Extracted feature matrix X_train with 5217 rows and 37 columns\n",
      "INFO:Extracted feature matrix X_test with 2700 rows and 37 columns\n",
      "INFO:Extracted y_train, y_test and y_pred\n",
      "INFO:Skipping result logging\n",
      "INFO:Patching sys.argv with ['eyes', '142209']\n",
      "INFO:Created run 003b54a752384e229dae9413037b1d22 for this invocation\n",
      "INFO:Executing instrumented user pipeline with mlinspect\n",
      "INFO:Redirecting the pipeline's stdout to arguseyes-pipeline-output.txt\n"
     ]
    },
    {
     "name": "stdout",
     "output_type": "stream",
     "text": [
      "0.18118609406952957 0.18118609406952957\n",
      "5217 5217\n"
     ]
    },
    {
     "name": "stderr",
     "output_type": "stream",
     "text": [
      "INFO:Identifying training sources\n",
      "INFO:rows_from_operator.keys() dict_keys([0])\n",
      "INFO:operators_with_duplicates set()\n",
      "INFO:sources_one_to_one 1\n",
      "INFO:Found fact table from operator 0 with 32561 records and the following attributes: ['age', 'workclass', 'fnlwgt', 'education', 'education-num', 'marital-status', 'occupation', 'relationship', 'race', 'sex', 'capital-gain', 'capital-loss', 'hours-per-week', 'native-country', 'income-per-year']\n",
      "INFO:Identifying test sources\n",
      "INFO:rows_from_operator.keys() dict_keys([1])\n",
      "INFO:operators_with_duplicates set()\n",
      "INFO:sources_one_to_one 1\n",
      "INFO:Found fact table from operator 1 with 16281 records and the following attributes: ['age', 'workclass', 'fnlwgt', 'education', 'education-num', 'marital-status', 'occupation', 'relationship', 'race', 'sex', 'capital-gain', 'capital-loss', 'hours-per-week', 'native-country', 'income-per-year']\n",
      "INFO:Extracted feature matrix X_train with 5224 rows and 37 columns\n",
      "INFO:Extracted feature matrix X_test with 2704 rows and 37 columns\n",
      "INFO:Extracted y_train, y_test and y_pred\n",
      "INFO:Skipping result logging\n",
      "INFO:Patching sys.argv with ['eyes', '181459']\n",
      "INFO:Created run bd6fa9c32cdf4de8a952225d1bfa4888 for this invocation\n",
      "INFO:Executing instrumented user pipeline with mlinspect\n",
      "INFO:Redirecting the pipeline's stdout to arguseyes-pipeline-output.txt\n"
     ]
    },
    {
     "name": "stdout",
     "output_type": "stream",
     "text": [
      "0.17816174983385824 0.17816174983385824\n",
      "5224 5224\n"
     ]
    },
    {
     "name": "stderr",
     "output_type": "stream",
     "text": [
      "INFO:Identifying training sources\n",
      "INFO:rows_from_operator.keys() dict_keys([0])\n",
      "INFO:operators_with_duplicates set()\n",
      "INFO:sources_one_to_one 1\n",
      "INFO:Found fact table from operator 0 with 32561 records and the following attributes: ['age', 'workclass', 'fnlwgt', 'education', 'education-num', 'marital-status', 'occupation', 'relationship', 'race', 'sex', 'capital-gain', 'capital-loss', 'hours-per-week', 'native-country', 'income-per-year']\n",
      "INFO:Identifying test sources\n",
      "INFO:rows_from_operator.keys() dict_keys([1])\n",
      "INFO:operators_with_duplicates set()\n",
      "INFO:sources_one_to_one 1\n",
      "INFO:Found fact table from operator 1 with 16281 records and the following attributes: ['age', 'workclass', 'fnlwgt', 'education', 'education-num', 'marital-status', 'occupation', 'relationship', 'race', 'sex', 'capital-gain', 'capital-loss', 'hours-per-week', 'native-country', 'income-per-year']\n",
      "INFO:Extracted feature matrix X_train with 29352 rows and 40 columns\n",
      "INFO:Extracted feature matrix X_test with 14659 rows and 40 columns\n",
      "INFO:Extracted y_train, y_test and y_pred\n",
      "INFO:Skipping result logging\n",
      "INFO:Patching sys.argv with ['eyes', '994015']\n",
      "INFO:Created run 1b56f8c7309a4905b537c1b3e1d5d722 for this invocation\n",
      "INFO:Executing instrumented user pipeline with mlinspect\n",
      "INFO:Redirecting the pipeline's stdout to arguseyes-pipeline-output.txt\n"
     ]
    },
    {
     "name": "stdout",
     "output_type": "stream",
     "text": [
      "0.06658181375330074 0.06658181375330074\n",
      "29352 29352\n"
     ]
    },
    {
     "name": "stderr",
     "output_type": "stream",
     "text": [
      "INFO:Identifying training sources\n",
      "INFO:rows_from_operator.keys() dict_keys([0])\n",
      "INFO:operators_with_duplicates set()\n",
      "INFO:sources_one_to_one 1\n",
      "INFO:Found fact table from operator 0 with 32561 records and the following attributes: ['age', 'workclass', 'fnlwgt', 'education', 'education-num', 'marital-status', 'occupation', 'relationship', 'race', 'sex', 'capital-gain', 'capital-loss', 'hours-per-week', 'native-country', 'income-per-year']\n",
      "INFO:Identifying test sources\n",
      "INFO:rows_from_operator.keys() dict_keys([1])\n",
      "INFO:operators_with_duplicates set()\n",
      "INFO:sources_one_to_one 1\n",
      "INFO:Found fact table from operator 1 with 16281 records and the following attributes: ['age', 'workclass', 'fnlwgt', 'education', 'education-num', 'marital-status', 'occupation', 'relationship', 'race', 'sex', 'capital-gain', 'capital-loss', 'hours-per-week', 'native-country', 'income-per-year']\n",
      "INFO:Extracted feature matrix X_train with 6642 rows and 37 columns\n",
      "INFO:Extracted feature matrix X_test with 3442 rows and 37 columns\n",
      "INFO:Extracted y_train, y_test and y_pred\n",
      "INFO:Skipping result logging\n",
      "INFO:Patching sys.argv with ['eyes', '172466']\n",
      "INFO:Created run 07a82de0beef4bf6a36d4f381de9796c for this invocation\n",
      "INFO:Executing instrumented user pipeline with mlinspect\n",
      "INFO:Redirecting the pipeline's stdout to arguseyes-pipeline-output.txt\n"
     ]
    },
    {
     "name": "stdout",
     "output_type": "stream",
     "text": [
      "0.03591718825228696 0.03591718825228696\n",
      "6642 6642\n"
     ]
    },
    {
     "name": "stderr",
     "output_type": "stream",
     "text": [
      "INFO:Identifying training sources\n",
      "INFO:rows_from_operator.keys() dict_keys([0])\n",
      "INFO:operators_with_duplicates set()\n",
      "INFO:sources_one_to_one 1\n",
      "INFO:Found fact table from operator 0 with 32561 records and the following attributes: ['age', 'workclass', 'fnlwgt', 'education', 'education-num', 'marital-status', 'occupation', 'relationship', 'race', 'sex', 'capital-gain', 'capital-loss', 'hours-per-week', 'native-country', 'income-per-year']\n",
      "INFO:Identifying test sources\n",
      "INFO:rows_from_operator.keys() dict_keys([1])\n",
      "INFO:operators_with_duplicates set()\n",
      "INFO:sources_one_to_one 1\n",
      "INFO:Found fact table from operator 1 with 16281 records and the following attributes: ['age', 'workclass', 'fnlwgt', 'education', 'education-num', 'marital-status', 'occupation', 'relationship', 'race', 'sex', 'capital-gain', 'capital-loss', 'hours-per-week', 'native-country', 'income-per-year']\n",
      "INFO:Extracted feature matrix X_train with 7303 rows and 37 columns\n",
      "INFO:Extracted feature matrix X_test with 3740 rows and 37 columns\n",
      "INFO:Extracted y_train, y_test and y_pred\n",
      "INFO:Skipping result logging\n",
      "INFO:Patching sys.argv with ['eyes', '529630']\n",
      "INFO:Created run 0860ef7eac834437a2c958b0a1943044 for this invocation\n",
      "INFO:Executing instrumented user pipeline with mlinspect\n",
      "INFO:Redirecting the pipeline's stdout to arguseyes-pipeline-output.txt\n"
     ]
    },
    {
     "name": "stdout",
     "output_type": "stream",
     "text": [
      "0.12075175996258902 0.12075175996258902\n",
      "7303 7303\n"
     ]
    },
    {
     "name": "stderr",
     "output_type": "stream",
     "text": [
      "INFO:Identifying training sources\n",
      "INFO:rows_from_operator.keys() dict_keys([0])\n",
      "INFO:operators_with_duplicates set()\n",
      "INFO:sources_one_to_one 1\n",
      "INFO:Found fact table from operator 0 with 32561 records and the following attributes: ['age', 'workclass', 'fnlwgt', 'education', 'education-num', 'marital-status', 'occupation', 'relationship', 'race', 'sex', 'capital-gain', 'capital-loss', 'hours-per-week', 'native-country', 'income-per-year']\n",
      "INFO:Identifying test sources\n",
      "INFO:rows_from_operator.keys() dict_keys([1])\n",
      "INFO:operators_with_duplicates set()\n",
      "INFO:sources_one_to_one 1\n",
      "INFO:Found fact table from operator 1 with 16281 records and the following attributes: ['age', 'workclass', 'fnlwgt', 'education', 'education-num', 'marital-status', 'occupation', 'relationship', 'race', 'sex', 'capital-gain', 'capital-loss', 'hours-per-week', 'native-country', 'income-per-year']\n",
      "INFO:Extracted feature matrix X_train with 4115 rows and 37 columns\n",
      "INFO:Extracted feature matrix X_test with 2128 rows and 37 columns\n",
      "INFO:Extracted y_train, y_test and y_pred\n",
      "INFO:Skipping result logging\n"
     ]
    },
    {
     "name": "stdout",
     "output_type": "stream",
     "text": [
      "0.11917670682730919 0.11917670682730919\n",
      "4115 4115\n"
     ]
    }
   ],
   "source": [
    "seeds = [1234, 830848, 987496, 429214, 178132, 590519, 725202, 476388, 133576, 515078, \n",
    "         720668, 449660, 168556, 74155, 164680, 142209, 181459, 994015, 172466, 529630]\n",
    "\n",
    "for seed in seeds:\n",
    "    eq_opp_a, usage_a = execute_with_arguseyes(seed)\n",
    "    eq_opp_m, usage_m = execute_manually(seed)\n",
    "    \n",
    "    print(eq_opp_a, eq_opp_m)\n",
    "    assert(eq_opp_a == eq_opp_m)\n",
    "    \n",
    "    print(np.sum(usage_a), np.sum(usage_m))\n",
    "    assert(np.array_equal(usage_a, usage_m))\n",
    "    "
   ]
  },
  {
   "cell_type": "code",
   "execution_count": null,
   "metadata": {},
   "outputs": [],
   "source": []
  }
 ],
 "metadata": {
  "kernelspec": {
   "display_name": "Python 3 (ipykernel)",
   "language": "python",
   "name": "python3"
  },
  "language_info": {
   "codemirror_mode": {
    "name": "ipython",
    "version": 3
   },
   "file_extension": ".py",
   "mimetype": "text/x-python",
   "name": "python",
   "nbconvert_exporter": "python",
   "pygments_lexer": "ipython3",
   "version": "3.9.10"
  }
 },
 "nbformat": 4,
 "nbformat_minor": 4
}
