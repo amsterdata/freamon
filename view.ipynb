{
 "cells": [
  {
   "cell_type": "code",
   "execution_count": 1,
   "metadata": {},
   "outputs": [],
   "source": [
    "import logging\n",
    "import warnings\n",
    "\n",
    "logging.basicConfig()\n",
    "logging.getLogger().setLevel(logging.INFO)\n",
    "\n",
    "warnings.filterwarnings(\"ignore\")"
   ]
  },
  {
   "cell_type": "markdown",
   "metadata": {},
   "source": [
    "## Execute a pipeline and setup a view generator"
   ]
  },
  {
   "cell_type": "code",
   "execution_count": 2,
   "metadata": {},
   "outputs": [
    {
     "name": "stderr",
     "output_type": "stream",
     "text": [
      "INFO:root:Patching sys.argv with ['eyes']\n",
      "INFO:root:Registering source 0 with columns: ['age', 'workclass', 'fnlwgt', 'education', 'education-num', 'marital-status', 'occupation', 'relationship', 'race', 'sex', 'capital-gain', 'capital-loss', 'hours-per-week', 'native-country', 'income-per-year', 'mlinspect_lineage_0_0']\n",
      "INFO:root:\n",
      "                  CREATE OR REPLACE VIEW _freamon_source_0_with_prov_view AS \n",
      "                  SELECT \n",
      "                  \"age\" AS \"age\", \"workclass\" AS \"workclass\", \"fnlwgt\" AS \"fnlwgt\", \"education\" AS \"education\", \"education-num\" AS \"education-num\", \"marital-status\" AS \"marital-status\", \"occupation\" AS \"occupation\", \"relationship\" AS \"relationship\", \"race\" AS \"race\", \"sex\" AS \"sex\", \"capital-gain\" AS \"capital-gain\", \"capital-loss\" AS \"capital-loss\", \"hours-per-week\" AS \"hours-per-week\", \"native-country\" AS \"native-country\", \"income-per-year\" AS \"income-per-year\", \"mlinspect_lineage_0_0\" AS \"prov_id_source_0\"\n",
      "                  FROM _freamon_source_0\n",
      "                \n",
      "INFO:root:Registering source 1 with columns: ['age', 'workclass', 'fnlwgt', 'education', 'education-num', 'marital-status', 'occupation', 'relationship', 'race', 'sex', 'capital-gain', 'capital-loss', 'hours-per-week', 'native-country', 'income-per-year', 'mlinspect_lineage_1_0']\n",
      "INFO:root:\n",
      "                  CREATE OR REPLACE VIEW _freamon_source_1_with_prov_view AS \n",
      "                  SELECT \n",
      "                  \"age\" AS \"age\", \"workclass\" AS \"workclass\", \"fnlwgt\" AS \"fnlwgt\", \"education\" AS \"education\", \"education-num\" AS \"education-num\", \"marital-status\" AS \"marital-status\", \"occupation\" AS \"occupation\", \"relationship\" AS \"relationship\", \"race\" AS \"race\", \"sex\" AS \"sex\", \"capital-gain\" AS \"capital-gain\", \"capital-loss\" AS \"capital-loss\", \"hours-per-week\" AS \"hours-per-week\", \"native-country\" AS \"native-country\", \"income-per-year\" AS \"income-per-year\", \"mlinspect_lineage_1_0\" AS \"prov_id_source_1\"\n",
      "                  FROM _freamon_source_1\n",
      "                \n"
     ]
    },
    {
     "name": "stdout",
     "output_type": "stream",
     "text": [
      "Model accuracy on held-out data 0.818609022556391\n"
     ]
    }
   ],
   "source": [
    "from freamon.adapters.mlinspect.provenance import from_py_file\n",
    "view_generator = from_py_file('pipelines--mlinspect--credit.py')"
   ]
  },
  {
   "cell_type": "markdown",
   "metadata": {},
   "source": [
    "## Generate and materialize a view for data debugging"
   ]
  },
  {
   "cell_type": "code",
   "execution_count": 3,
   "metadata": {},
   "outputs": [
    {
     "name": "stderr",
     "output_type": "stream",
     "text": [
      "INFO:root:\n",
      "SELECT fs0.race, fs0.sex, ftv.y_true, ftv.y_pred\n",
      "FROM _freamon_test_view ftv\n",
      "JOIN _freamon_source_0_with_prov_view fs0  ON fs0.prov_id_source_0 = ftv.prov_id_source_0\n",
      "   \n",
      "        \n"
     ]
    },
    {
     "ename": "RuntimeError",
     "evalue": "Binder Error: Values list \"ftv\" does not have a column named \"prov_id_source_0\"\nLINE 4: ....y_true, ftv.y_pred\nFROM _freamon_test_view ftv\nJOIN _freamon_source_0_with_prov_view fs0  ON fs0.prov_id_source_0 = ftv.prov_id_source_0\n                                                  ^",
     "output_type": "error",
     "traceback": [
      "\u001b[0;31m---------------------------------------------------------------------------\u001b[0m",
      "\u001b[0;31mRuntimeError\u001b[0m                              Traceback (most recent call last)",
      "\u001b[0;32m/var/folders/dk/pbhh8rgn191dtpwnbsn_q1mm0000gn/T/ipykernel_47724/2437789533.py\u001b[0m in \u001b[0;36m<module>\u001b[0;34m\u001b[0m\n\u001b[0;32m----> 1\u001b[0;31m df = view_generator.test_view(\n\u001b[0m\u001b[1;32m      2\u001b[0m     \u001b[0msliceable_by\u001b[0m\u001b[0;34m=\u001b[0m\u001b[0;34m[\u001b[0m\u001b[0;34m'race'\u001b[0m\u001b[0;34m,\u001b[0m \u001b[0;34m'sex'\u001b[0m\u001b[0;34m]\u001b[0m\u001b[0;34m,\u001b[0m\u001b[0;34m\u001b[0m\u001b[0;34m\u001b[0m\u001b[0m\n\u001b[1;32m      3\u001b[0m     \u001b[0mwith_features\u001b[0m\u001b[0;34m=\u001b[0m\u001b[0;32mFalse\u001b[0m\u001b[0;34m,\u001b[0m\u001b[0;34m\u001b[0m\u001b[0;34m\u001b[0m\u001b[0m\n\u001b[1;32m      4\u001b[0m     \u001b[0mwith_y_true\u001b[0m\u001b[0;34m=\u001b[0m\u001b[0;32mTrue\u001b[0m\u001b[0;34m,\u001b[0m\u001b[0;34m\u001b[0m\u001b[0;34m\u001b[0m\u001b[0m\n\u001b[1;32m      5\u001b[0m     with_y_pred=True)\n",
      "\u001b[0;32m~/projects/freamon-opt/freamon/viewgen/duckdb.py\u001b[0m in \u001b[0;36mtest_view\u001b[0;34m(self, sliceable_by, with_features, with_y_true, with_y_pred)\u001b[0m\n\u001b[1;32m     47\u001b[0m         \u001b[0mlogging\u001b[0m\u001b[0;34m.\u001b[0m\u001b[0minfo\u001b[0m\u001b[0;34m(\u001b[0m\u001b[0mquery\u001b[0m\u001b[0;34m)\u001b[0m\u001b[0;34m\u001b[0m\u001b[0;34m\u001b[0m\u001b[0m\n\u001b[1;32m     48\u001b[0m \u001b[0;34m\u001b[0m\u001b[0m\n\u001b[0;32m---> 49\u001b[0;31m         \u001b[0;32mreturn\u001b[0m \u001b[0mself\u001b[0m\u001b[0;34m.\u001b[0m\u001b[0mdb\u001b[0m\u001b[0;34m.\u001b[0m\u001b[0mexecute\u001b[0m\u001b[0;34m(\u001b[0m\u001b[0mquery\u001b[0m\u001b[0;34m)\u001b[0m\u001b[0;34m.\u001b[0m\u001b[0mdf\u001b[0m\u001b[0;34m(\u001b[0m\u001b[0;34m)\u001b[0m\u001b[0;34m\u001b[0m\u001b[0;34m\u001b[0m\u001b[0m\n\u001b[0m",
      "\u001b[0;31mRuntimeError\u001b[0m: Binder Error: Values list \"ftv\" does not have a column named \"prov_id_source_0\"\nLINE 4: ....y_true, ftv.y_pred\nFROM _freamon_test_view ftv\nJOIN _freamon_source_0_with_prov_view fs0  ON fs0.prov_id_source_0 = ftv.prov_id_source_0\n                                                  ^"
     ]
    }
   ],
   "source": [
    "df = view_generator.test_view(\n",
    "    sliceable_by=['race', 'sex'], \n",
    "    with_features=False, \n",
    "    with_y_true=True, \n",
    "    with_y_pred=True)\n",
    "\n",
    "df"
   ]
  },
  {
   "cell_type": "markdown",
   "metadata": {},
   "source": [
    "## Compute group-wise confusion matrix (for fairness metrics) via an aggregation query"
   ]
  },
  {
   "cell_type": "code",
   "execution_count": null,
   "metadata": {},
   "outputs": [],
   "source": [
    "view_generator.query(\n",
    "\"\"\"\n",
    "SELECT \n",
    "    race=='White' AS privileged, \n",
    "    SUM(CAST((y_true=1 AND y_pred=1) AS INTEGER)) AS true_positive,\n",
    "    SUM(CAST((y_true=1 AND y_pred=0) AS INTEGER)) AS false_negative,    \n",
    "    SUM(CAST((y_true=0 AND y_pred=1) AS INTEGER)) AS false_positive,    \n",
    "    SUM(CAST((y_true=0 AND y_pred=0) AS INTEGER)) AS true_negative,    \n",
    "FROM df\n",
    "GROUP BY privileged\n",
    "\"\"\"\n",
    ")"
   ]
  },
  {
   "cell_type": "markdown",
   "metadata": {},
   "source": [
    "## Slicefinder via aggregation queries"
   ]
  },
  {
   "cell_type": "code",
   "execution_count": null,
   "metadata": {},
   "outputs": [],
   "source": [
    "view_generator.query(\n",
    "\"\"\"\n",
    "SELECT \n",
    "    race='White' AS white,\n",
    "    sex='Male' AS male,\n",
    "    AVG(-(y_true * log(y_pred_proba) + (1 - y_true) * log(1.0 - y_pred_proba))) AS avg_loss,\n",
    "    VARIANCE(-(y_true * log(y_pred_proba) + (1 - y_true) * log(1.0 - y_pred_proba))) AS var_loss,    \n",
    "    COUNT(*) as size\n",
    "    \n",
    "FROM (SELECT race, sex, y_true, IF(y_pred=0, 0.00001, 0.99999) AS y_pred_proba FROM df)\n",
    "GROUP BY GROUPING SETS ((race='White', sex='Male'), (race='White'), (sex='Male'))\n",
    "\"\"\"\n",
    ")"
   ]
  },
  {
   "cell_type": "code",
   "execution_count": null,
   "metadata": {},
   "outputs": [],
   "source": []
  },
  {
   "cell_type": "code",
   "execution_count": null,
   "metadata": {},
   "outputs": [],
   "source": []
  }
 ],
 "metadata": {
  "kernelspec": {
   "display_name": "Python 3 (ipykernel)",
   "language": "python",
   "name": "python3"
  },
  "language_info": {
   "codemirror_mode": {
    "name": "ipython",
    "version": 3
   },
   "file_extension": ".py",
   "mimetype": "text/x-python",
   "name": "python",
   "nbconvert_exporter": "python",
   "pygments_lexer": "ipython3",
   "version": "3.9.13"
  }
 },
 "nbformat": 4,
 "nbformat_minor": 4
}
