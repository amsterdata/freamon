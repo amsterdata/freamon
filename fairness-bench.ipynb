{
 "cells": [
  {
   "cell_type": "code",
   "execution_count": 1,
   "metadata": {},
   "outputs": [],
   "source": [
    "import sys\n",
    "import time\n",
    "\n",
    "from freamon import Freamon\n",
    "from freamon.templates import Output, SourceType\n",
    "\n",
    "\n",
    "frm = Freamon('freamon-benchmarks-fairness', './mlruns')\n",
    "\n",
    "captured_pipeline = None\n",
    "cmd_args = []\n",
    "\n",
    "\n",
    "with frm.pipeline_from_py_file('pipelines--mlinspect--credit.py', cmd_args=cmd_args) as pipeline:\n",
    "    captured_pipeline = pipeline"
   ]
  },
  {
   "cell_type": "code",
   "execution_count": 24,
   "metadata": {},
   "outputs": [],
   "source": [
    "def compute_opt(pipeline, sensitive_attribute, non_protected_class):\n",
    "    fact_table_index, fact_table_source = [\n",
    "        (index, test_source) for index, test_source in enumerate(pipeline.test_sources)\n",
    "                             if test_source.source_type == SourceType.ENTITIES][0]\n",
    "\n",
    "    fact_table_lineage = pipeline.test_source_lineage[fact_table_index]    \n",
    "\n",
    "    is_in_non_protected = list(fact_table_source.data[sensitive_attribute] == non_protected_class)\n",
    "    \n",
    "    y_pred = pipeline.outputs[Output.Y_PRED]\n",
    "    lineage_y_pred = pipeline.output_lineage[Output.Y_PRED]\n",
    "\n",
    "    # Compute the confusion matrix per group\n",
    "    y_test = pipeline.outputs[Output.Y_TEST]\n",
    "\n",
    "    non_protected_false_negatives = 0\n",
    "    non_protected_true_positives = 0\n",
    "    non_protected_true_negatives = 0\n",
    "    non_protected_false_positives = 0\n",
    "\n",
    "    protected_false_negatives = 0\n",
    "    protected_true_positives = 0\n",
    "    protected_true_negatives = 0\n",
    "    protected_false_positives = 0\n",
    "\n",
    "    for index, polynomial in enumerate(lineage_y_pred):\n",
    "        for entry in polynomial:\n",
    "            if entry.operator_id == fact_table_source.operator_id:\n",
    "                # Positive ground truth label\n",
    "                if y_test[index] == 1.0:\n",
    "                    if is_in_non_protected[entry.row_id]:\n",
    "                    #if is_in_non_protected_by_row_id[entry.row_id]:\n",
    "                        if y_pred[index] == 1.0:\n",
    "                            non_protected_true_positives += 1\n",
    "                        else:\n",
    "                            non_protected_false_negatives += 1\n",
    "                    else:\n",
    "                        if y_pred[index] == 1.0:\n",
    "                            protected_true_positives += 1\n",
    "                        else:\n",
    "                            protected_false_negatives += 1\n",
    "                # Negative ground truth label\n",
    "                else:\n",
    "                    if is_in_non_protected[entry.row_id]:\n",
    "                    #if is_in_non_protected_by_row_id[entry.row_id]:\n",
    "                        if y_pred[index] == 1.0:\n",
    "                            non_protected_false_positives += 1\n",
    "                        else:\n",
    "                            non_protected_true_negatives += 1\n",
    "                    else:\n",
    "                        if y_pred[index] == 1.0:\n",
    "                            protected_false_positives += 1\n",
    "                        else:\n",
    "                            protected_true_negatives += 1\n",
    "\n",
    "    return non_protected_true_negatives, non_protected_false_positives, non_protected_false_negatives, \\\n",
    "           non_protected_true_positives, protected_true_negatives, protected_false_positives, \\\n",
    "           protected_false_negatives, protected_true_positives"
   ]
  },
  {
   "cell_type": "code",
   "execution_count": 19,
   "metadata": {},
   "outputs": [],
   "source": [
    "def compute_naive(pipeline, sensitive_attribute, non_protected_class):\n",
    "    fact_table_index, fact_table_source = [\n",
    "        (index, test_source) for index, test_source in enumerate(pipeline.test_sources)\n",
    "                             if test_source.source_type == SourceType.ENTITIES][0]\n",
    "\n",
    "    fact_table_lineage = pipeline.test_source_lineage[fact_table_index]    \n",
    "\n",
    "    y_pred = pipeline.outputs[Output.Y_PRED]\n",
    "    lineage_y_pred = pipeline.output_lineage[Output.Y_PRED]\n",
    "\n",
    "    # Compute the confusion matrix per group\n",
    "    y_test = pipeline.outputs[Output.Y_TEST]\n",
    "\n",
    "    non_protected_false_negatives = 0\n",
    "    non_protected_true_positives = 0\n",
    "    non_protected_true_negatives = 0\n",
    "    non_protected_false_positives = 0\n",
    "\n",
    "    protected_false_negatives = 0\n",
    "    protected_true_positives = 0\n",
    "    protected_true_negatives = 0\n",
    "    protected_false_positives = 0    \n",
    "    \n",
    "    \n",
    "    for tuple_index, annotation in enumerate(fact_table_lineage):\n",
    "        tuple_annotation = list(annotation)[0]\n",
    "        for index, polynomial in enumerate(lineage_y_pred):\n",
    "            result = 1.0\n",
    "            for variable in polynomial:\n",
    "                if variable.operator_id == tuple_annotation.operator_id \\\n",
    "                        and variable.row_id == tuple_annotation.row_id:\n",
    "                    result *= 0.0\n",
    "                else:\n",
    "                    result *= 1.0\n",
    "            if result == 0.0:\n",
    "\n",
    "                row = fact_table_source.data.iloc[tuple_index]\n",
    "                \n",
    "                is_non_protected = \\\n",
    "                    row[sensitive_attribute] == non_protected_class\n",
    "                \n",
    "                if y_test[index] == 1.0:\n",
    "                    if is_non_protected:\n",
    "                        if y_pred[index] == 1.0:\n",
    "                            non_protected_true_positives += 1\n",
    "                        else:\n",
    "                            non_protected_false_negatives += 1\n",
    "                    else:\n",
    "                        if y_pred[index] == 1.0:\n",
    "                            protected_true_positives += 1\n",
    "                        else:\n",
    "                            protected_false_negatives += 1\n",
    "                # Negative ground truth label\n",
    "                else:\n",
    "                    if is_non_protected:\n",
    "                        if y_pred[index] == 1.0:\n",
    "                            non_protected_false_positives += 1\n",
    "                        else:\n",
    "                            non_protected_true_negatives += 1\n",
    "                    else:\n",
    "                        if y_pred[index] == 1.0:\n",
    "                            protected_false_positives += 1\n",
    "                        else:\n",
    "                            protected_true_negatives += 1                \n",
    "                \n",
    "                break\n",
    "\n",
    "    return non_protected_true_negatives, non_protected_false_positives, non_protected_false_negatives, \\\n",
    "           non_protected_true_positives, protected_true_negatives, protected_false_positives, \\\n",
    "           protected_false_negatives, protected_true_positives"
   ]
  },
  {
   "cell_type": "code",
   "execution_count": 22,
   "metadata": {},
   "outputs": [
    {
     "data": {
      "text/plain": [
       "7.774752140045166"
      ]
     },
     "execution_count": 22,
     "metadata": {},
     "output_type": "execute_result"
    }
   ],
   "source": [
    "naive_start = time.time()\n",
    "compute_naive(captured_pipeline, 'sex', 'Male')\n",
    "naive_duration = time.time() - naive_start\n",
    "naive_duration"
   ]
  },
  {
   "cell_type": "code",
   "execution_count": 26,
   "metadata": {},
   "outputs": [
    {
     "data": {
      "text/plain": [
       "0.008813142776489258"
      ]
     },
     "execution_count": 26,
     "metadata": {},
     "output_type": "execute_result"
    }
   ],
   "source": [
    "opt_start = time.time()\n",
    "res = compute_opt(captured_pipeline, 'sex', 'Male')\n",
    "opt_duration = time.time() - opt_start\n",
    "opt_duration"
   ]
  },
  {
   "cell_type": "code",
   "execution_count": 27,
   "metadata": {},
   "outputs": [
    {
     "data": {
      "text/plain": [
       "(828, 95, 187, 173, 713, 49, 55, 28)"
      ]
     },
     "execution_count": 27,
     "metadata": {},
     "output_type": "execute_result"
    }
   ],
   "source": [
    "res"
   ]
  },
  {
   "cell_type": "code",
   "execution_count": null,
   "metadata": {},
   "outputs": [],
   "source": []
  }
 ],
 "metadata": {
  "kernelspec": {
   "display_name": "Python 3 (ipykernel)",
   "language": "python",
   "name": "python3"
  },
  "language_info": {
   "codemirror_mode": {
    "name": "ipython",
    "version": 3
   },
   "file_extension": ".py",
   "mimetype": "text/x-python",
   "name": "python",
   "nbconvert_exporter": "python",
   "pygments_lexer": "ipython3",
   "version": "3.9.10"
  }
 },
 "nbformat": 4,
 "nbformat_minor": 4
}
