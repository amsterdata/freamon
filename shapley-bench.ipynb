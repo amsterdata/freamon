{
 "cells": [
  {
   "cell_type": "code",
   "execution_count": 6,
   "metadata": {},
   "outputs": [],
   "source": [
    "import sys\n",
    "import time\n",
    "\n",
    "from freamon import Freamon\n",
    "from freamon.templates import Output\n",
    "\n",
    "\n",
    "frm = Freamon('freamon-benchmarks-shapley', './mlruns')\n",
    "\n",
    "captured_pipeline = None\n",
    "cmd_args = []\n",
    "\n",
    "\n",
    "with frm.pipeline_from_py_file('pipelines--mlinspect--credit.py', cmd_args=cmd_args) as pipeline:\n",
    "    captured_pipeline = pipeline"
   ]
  },
  {
   "cell_type": "code",
   "execution_count": 11,
   "metadata": {},
   "outputs": [],
   "source": [
    "import numpy as np\n",
    "from numba import njit, prange\n",
    "from freamon.compliance import ComplianceData\n",
    "from freamon.templates import SourceType, Source, Output"
   ]
  },
  {
   "cell_type": "code",
   "execution_count": 8,
   "metadata": {},
   "outputs": [],
   "source": [
    "@njit(fastmath=True, parallel=True)\n",
    "def _compute_shapley_values(X_train, y_train, X_test, y_test, K=1):\n",
    "    N = len(X_train)\n",
    "    M = len(X_test)\n",
    "    result = np.zeros(N, dtype=np.float32)\n",
    "\n",
    "    for j in prange(M):\n",
    "        score = np.zeros(N, dtype=np.float32)\n",
    "        dist = np.zeros(N, dtype=np.float32)\n",
    "        div_range = np.arange(1.0, N)\n",
    "        div_min = np.minimum(div_range, K)\n",
    "        for i in range(N):\n",
    "            dist[i] = np.sqrt(np.sum(np.square(X_train[i] - X_test[j])))\n",
    "        indices = np.argsort(dist)\n",
    "        y_sorted = y_train[indices]\n",
    "        eq_check = (y_sorted == y_test[j]) * 1.0\n",
    "        diff = - 1 / K * (eq_check[1:] - eq_check[:-1])\n",
    "        diff /= div_range\n",
    "        diff *= div_min\n",
    "        score[indices[:-1]] = diff\n",
    "        score[indices[-1]] = eq_check[-1] / N\n",
    "        score[indices] += np.sum(score[indices]) - np.cumsum(score[indices])\n",
    "        result += score / M\n",
    "\n",
    "    return result"
   ]
  },
  {
   "cell_type": "code",
   "execution_count": 23,
   "metadata": {},
   "outputs": [],
   "source": [
    "def compute_naive(pipeline, num_test_samples, k):\n",
    "    \n",
    "    X_train = pipeline.outputs[Output.X_TRAIN]\n",
    "    X_test = pipeline.outputs[Output.X_TEST]\n",
    "    y_train = pipeline.outputs[Output.Y_TRAIN]\n",
    "    y_test = pipeline.outputs[Output.Y_TEST]\n",
    "\n",
    "    X_test_sampled = X_test[:num_test_samples, :]\n",
    "    y_test_sampled = y_test[:num_test_samples, :]\n",
    "\n",
    "    shapley_values = _compute_shapley_values(X_train,\n",
    "                                             np.squeeze(y_train),\n",
    "                                             X_test_sampled,\n",
    "                                             np.squeeze(y_test_sampled), k)\n",
    "\n",
    "    lineage_X_train = pipeline.output_lineage[Output.X_TRAIN]    \n",
    "\n",
    "    fact_table_index, fact_table_source = [\n",
    "        (index, train_source) for index, train_source in enumerate(pipeline.train_sources)\n",
    "                              if train_source.source_type == SourceType.ENTITIES][0]\n",
    "    \n",
    "    source_lineage = pipeline.train_source_lineage[fact_table_index]\n",
    "    \n",
    "    assigned_shapley_values = np.zeros(len(fact_table_source.data))\n",
    "    \n",
    "    for tuple_index, annotation in enumerate(source_lineage):\n",
    "        tuple_annotation = list(annotation)[0]\n",
    "        for train_index, polynomial in enumerate(lineage_X_train):\n",
    "            result = 1.0\n",
    "            for variable in polynomial:\n",
    "                if variable.operator_id == tuple_annotation.operator_id \\\n",
    "                        and variable.row_id == tuple_annotation.row_id:\n",
    "                    result *= 0.0\n",
    "                else:\n",
    "                    result *= 1.0\n",
    "            if result == 0.0:\n",
    "                assigned_shapley_values[tuple_index] = shapley_values[train_index]\n",
    "                break\n",
    "    \n",
    "    return assigned_shapley_values"
   ]
  },
  {
   "cell_type": "code",
   "execution_count": 29,
   "metadata": {},
   "outputs": [],
   "source": [
    "def compute_opt(pipeline, num_test_samples, k):\n",
    "    \n",
    "    X_train = pipeline.outputs[Output.X_TRAIN]\n",
    "    X_test = pipeline.outputs[Output.X_TEST]\n",
    "    y_train = pipeline.outputs[Output.Y_TRAIN]\n",
    "    y_test = pipeline.outputs[Output.Y_TEST]\n",
    "\n",
    "    X_test_sampled = X_test[:num_test_samples, :]\n",
    "    y_test_sampled = y_test[:num_test_samples, :]\n",
    "\n",
    "    shapley_values = _compute_shapley_values(X_train,\n",
    "                                             np.squeeze(y_train),\n",
    "                                             X_test_sampled,\n",
    "                                             np.squeeze(y_test_sampled), k)\n",
    "\n",
    "    lineage_X_train = pipeline.output_lineage[Output.X_TRAIN]    \n",
    "\n",
    "    fact_table_index, fact_table_source = [\n",
    "        (index, train_source) for index, train_source in enumerate(pipeline.train_sources)\n",
    "                              if train_source.source_type == SourceType.ENTITIES][0]\n",
    "    \n",
    "    fact_table_operator_id = fact_table_source.operator_id\n",
    "    \n",
    "    source_lineage = pipeline.train_source_lineage[fact_table_index]\n",
    "    \n",
    "    assigned_shapley_values = np.zeros(len(fact_table_source.data))\n",
    "    \n",
    "    for train_index, polynomial in enumerate(lineage_X_train):\n",
    "        for entry in polynomial:\n",
    "            if entry.operator_id == fact_table_operator_id:\n",
    "                assigned_shapley_values[entry.row_id] = shapley_values[train_index]\n",
    "    \n",
    "    return assigned_shapley_values"
   ]
  },
  {
   "cell_type": "code",
   "execution_count": 30,
   "metadata": {},
   "outputs": [
    {
     "data": {
      "text/plain": [
       "array([-8.59178035e-05,  0.00000000e+00,  0.00000000e+00, ...,\n",
       "        0.00000000e+00,  0.00000000e+00,  0.00000000e+00])"
      ]
     },
     "execution_count": 30,
     "metadata": {},
     "output_type": "execute_result"
    }
   ],
   "source": [
    "compute_opt(captured_pipeline, 10, 1)"
   ]
  },
  {
   "cell_type": "code",
   "execution_count": 31,
   "metadata": {},
   "outputs": [
    {
     "name": "stdout",
     "output_type": "stream",
     "text": [
      "32561\n",
      "32561\n"
     ]
    },
    {
     "data": {
      "text/plain": [
       "array([-8.59178035e-05,  0.00000000e+00,  0.00000000e+00, ...,\n",
       "        0.00000000e+00,  0.00000000e+00,  0.00000000e+00])"
      ]
     },
     "execution_count": 31,
     "metadata": {},
     "output_type": "execute_result"
    }
   ],
   "source": [
    "compute_naive(captured_pipeline, 10, 1)"
   ]
  },
  {
   "cell_type": "code",
   "execution_count": null,
   "metadata": {},
   "outputs": [],
   "source": []
  }
 ],
 "metadata": {
  "kernelspec": {
   "display_name": "Python 3 (ipykernel)",
   "language": "python",
   "name": "python3"
  },
  "language_info": {
   "codemirror_mode": {
    "name": "ipython",
    "version": 3
   },
   "file_extension": ".py",
   "mimetype": "text/x-python",
   "name": "python",
   "nbconvert_exporter": "python",
   "pygments_lexer": "ipython3",
   "version": "3.9.10"
  }
 },
 "nbformat": 4,
 "nbformat_minor": 4
}
